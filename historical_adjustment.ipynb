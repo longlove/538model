{
 "cells": [
  {
   "cell_type": "code",
   "execution_count": 1,
   "id": "4be056c8",
   "metadata": {
    "collapsed": false
   },
   "outputs": [],
   "source": [
    "import datetime\n",
    "\n",
    "import numpy as np\n",
    "import statsmodels.api as sm\n",
    "import matplotlib.pyplot as plt\n",
    "import pandas\n",
    "from scipy import stats\n",
    "np.set_printoptions(precision=4, suppress=True)\n",
    "pandas.set_printoptions(notebook_repr_html=False,\n",
    "                        precision=4,\n",
    "                        max_columns=12, column_space=10,\n",
    "                        max_colwidth=25)\n",
    "from matplotlib import rcParams\n",
    "#rcParams['text.usetex'] = False\n",
    "#rcParams['text.latex.unicode'] = False"
   ]
  },
  {
   "cell_type": "markdown",
   "id": "652f7223",
   "metadata": {},
   "source": [
    "We have a snapshot for what would happen if the election is held today (Don't go bet on intratrade based on this model). Historically, polls have narrowed as the election nears."
   ]
  },
  {
   "cell_type": "markdown",
   "id": "06093893",
   "metadata": {},
   "source": [
    "#### Set up some globals for dates"
   ]
  },
  {
   "cell_type": "code",
   "execution_count": 2,
   "id": "d6f4a921",
   "metadata": {
    "collapsed": false
   },
   "outputs": [],
   "source": [
    "today = datetime.datetime(2012, 10, 2)\n",
    "election = datetime.datetime(2012, 11, 6)\n",
    "days_before = election - today\n",
    "date2004 = datetime.datetime(2004, 11, 2)\n",
    "days_before2004 = date2004 - days_before\n",
    "date2008 = datetime.datetime(2008, 11, 4)\n",
    "days_before2008 = date2008 - days_before"
   ]
  },
  {
   "cell_type": "markdown",
   "id": "e391012e",
   "metadata": {},
   "source": [
    "### TODO: Put a basemap map here"
   ]
  },
  {
   "cell_type": "markdown",
   "id": "d5dc423b",
   "metadata": {},
   "source": [
    "#### Load that data and clean"
   ]
  },
  {
   "cell_type": "code",
   "execution_count": 3,
   "id": "daf2ead5",
   "metadata": {
    "collapsed": false
   },
   "outputs": [],
   "source": [
    "national_2004 = pandas.read_table(\"/home/skipper/school/talks/538model/data/2004_poll_data.csv\")\n",
    "national_2004.rename(columns={\"Poll\" : \"Pollster\"}, inplace=True);"
   ]
  },
  {
   "cell_type": "code",
   "execution_count": 4,
   "id": "5a1b765c",
   "metadata": {
    "collapsed": false
   },
   "outputs": [],
   "source": [
    "state_data2004 = pandas.read_csv(\"/home/skipper/school/talks/538model/data/2004-pres-polls.csv\")\n",
    "state_data2008 = pandas.read_csv(\"/home/skipper/school/talks/538model/data/2008-pres-polls.csv\")\n"
   ]
  },
  {
   "cell_type": "code",
   "execution_count": 5,
   "id": "baadbdb1",
   "metadata": {
    "collapsed": false
   },
   "outputs": [
    {
     "data": {
      "text/plain": [
       "<class 'pandas.core.frame.DataFrame'>\n",
       "Int64Index: 879 entries, 0 to 878\n",
       "Data columns:\n",
       "State       879  non-null values\n",
       "Kerry       879  non-null values\n",
       "Bush        879  non-null values\n",
       "Date        879  non-null values\n",
       "Pollster    879  non-null values\n",
       "dtypes: int64(2), object(3)"
      ]
     },
     "execution_count": 5,
     "metadata": {},
     "output_type": "execute_result"
    }
   ],
   "source": [
    "state_data2004"
   ]
  },
  {
   "cell_type": "code",
   "execution_count": 6,
   "id": "60def22e",
   "metadata": {
    "collapsed": false
   },
   "outputs": [],
   "source": [
    "state_data2004.rename(columns={\"Kerry\" : \"challenger\", \n",
    "                               \"Bush\" : \"incumbent\"}, \n",
    "                      inplace=True);\n",
    "state_data2004[\"dem_spread\"] = (state_data2004[\"challenger\"] - \n",
    "                                      state_data2004[\"incumbent\"])"
   ]
  },
  {
   "cell_type": "code",
   "execution_count": 7,
   "id": "d78c4d74",
   "metadata": {
    "collapsed": false
   },
   "outputs": [],
   "source": [
    "state_data2004.Date.replace({\"Nov 00\" : \"Nov 01\", \"Oct 00\" : \"Oct 01\"}, \n",
    "                            inplace=True);\n",
    "state_data2004.Date = (state_data2004.Date + \", 2004\").apply(\n",
    "                                                pandas.datetools.parse)"
   ]
  },
  {
   "cell_type": "code",
   "execution_count": 8,
   "id": "4fd63a5b",
   "metadata": {
    "collapsed": false
   },
   "outputs": [],
   "source": [
    "def median_date(row, year=\"2008\"):\n",
    "    dt1 = pandas.datetools.parse(row[\"Start\"] + \", \" + year)\n",
    "    dt2 = pandas.datetools.parse(row[\"End\"] + \", \" + year)\n",
    "    dates = pandas.date_range(dt1, dt2)\n",
    "    median_idx = int(np.median(range(len(dates)))+.5)\n",
    "    return dates[median_idx]"
   ]
  },
  {
   "cell_type": "code",
   "execution_count": 9,
   "id": "7370da8c",
   "metadata": {
    "collapsed": false
   },
   "outputs": [],
   "source": [
    "state_data2008[\"Date\"] = state_data2008.apply(median_date, axis=1)\n",
    "del state_data2008[\"Start\"]\n",
    "del state_data2008[\"End\"]"
   ]
  },
  {
   "cell_type": "code",
   "execution_count": 10,
   "id": "bda95942",
   "metadata": {
    "collapsed": false
   },
   "outputs": [],
   "source": [
    "actual = national_2004.head(1)\n",
    "national_2004 = national_2004.ix[national_2004.index[~national_2004.Pollster.isin([\"Final Results\", \"RCP Average\"])]]"
   ]
  },
  {
   "cell_type": "code",
   "execution_count": 11,
   "id": "6780092d",
   "metadata": {
    "collapsed": false
   },
   "outputs": [],
   "source": [
    "def split_median_date(row):\n",
    "    dt = row[\"Date\"]\n",
    "    dt1, dt2 = dt.split(\" - \")\n",
    "    dates = pandas.date_range(dt1 + \", 2004\", dt2 + \", 2004\")\n",
    "    median_idx = int(np.median(range(len(dates)))+.5)\n",
    "    return dates[median_idx]"
   ]
  },
  {
   "cell_type": "code",
   "execution_count": 12,
   "id": "aca5cdd5",
   "metadata": {
    "collapsed": false
   },
   "outputs": [],
   "source": [
    "national_2004[\"Date\"] = national_2004.apply(split_median_date, axis=1)"
   ]
  },
  {
   "cell_type": "code",
   "execution_count": 13,
   "id": "0aa551fc",
   "metadata": {
    "collapsed": false
   },
   "outputs": [],
   "source": [
    "national_2004[\"dem_spread\"] = national_2004[\"Kerry (D)\"] - national_2004[\"Bush (R)\"]"
   ]
  },
  {
   "cell_type": "code",
   "execution_count": 14,
   "id": "7ebdfc9e",
   "metadata": {
    "collapsed": false
   },
   "outputs": [
    {
     "data": {
      "text/plain": [
       "<class 'pandas.core.frame.DataFrame'>\n",
       "Int64Index: 1189 entries, 0 to 1188\n",
       "Data columns:\n",
       "State       1189  non-null values\n",
       "Obama       1189  non-null values\n",
       "McCain      1189  non-null values\n",
       "Pollster    1189  non-null values\n",
       "Date        1189  non-null values\n",
       "dtypes: int64(2), object(3)"
      ]
     },
     "execution_count": 14,
     "metadata": {},
     "output_type": "execute_result"
    }
   ],
   "source": [
    "state_data2008"
   ]
  },
  {
   "cell_type": "code",
   "execution_count": 15,
   "id": "53f7a878",
   "metadata": {
    "collapsed": false
   },
   "outputs": [],
   "source": [
    "state_data2008.rename(columns={\"Obama\" : \"challenger\", \n",
    "                               \"McCain\" : \"incumbent\"}, \n",
    "                      inplace=True);\n",
    "state_data2008[\"dem_spread\"] = (state_data2008[\"challenger\"] - \n",
    "                                      state_data2008[\"incumbent\"])"
   ]
  },
  {
   "cell_type": "markdown",
   "id": "45b033b7",
   "metadata": {},
   "source": [
    "#### Clean the Pollster names"
   ]
  },
  {
   "cell_type": "code",
   "execution_count": 16,
   "id": "12c838d5",
   "metadata": {
    "collapsed": false
   },
   "outputs": [],
   "source": [
    "import pickle\n",
    "pollster_map = pickle.load(open(\n",
    "                 \"/home/skipper/school/talks/538model/data/pollster_map.pkl\", \"rb\"))"
   ]
  },
  {
   "cell_type": "code",
   "execution_count": 17,
   "id": "0722f267",
   "metadata": {
    "collapsed": false
   },
   "outputs": [],
   "source": [
    "state_data2004.Pollster.replace(pollster_map, inplace=True);\n",
    "state_data2008.Pollster.replace(pollster_map, inplace=True);\n",
    "national_2004.Pollster.replace(pollster_map, inplace=True);"
   ]
  },
  {
   "cell_type": "markdown",
   "id": "f3976ef3",
   "metadata": {},
   "source": [
    "#### Get the Pollster weights"
   ]
  },
  {
   "cell_type": "markdown",
   "id": "8eb6107c",
   "metadata": {},
   "source": [
    "These are old weights obtained from the 538 web site. New weights are not published anywhere to my knowledge."
   ]
  },
  {
   "cell_type": "code",
   "execution_count": 18,
   "id": "219132cf",
   "metadata": {
    "collapsed": false
   },
   "outputs": [],
   "source": [
    "weights = pandas.read_table(\"/home/skipper/school/talks/538model/\"\n",
    "                            \"data/pollster_weights.csv\")"
   ]
  },
  {
   "cell_type": "code",
   "execution_count": 19,
   "id": "3c36f1ab",
   "metadata": {
    "collapsed": false
   },
   "outputs": [],
   "source": [
    "state_data2004 = state_data2004.merge(weights, on=\"Pollster\", how=\"inner\");\n",
    "state_data2008 = state_data2008.merge(weights, on=\"Pollster\", how=\"inner\");"
   ]
  },
  {
   "cell_type": "markdown",
   "id": "766b5666",
   "metadata": {},
   "source": [
    "### What's the Assertion?"
   ]
  },
  {
   "cell_type": "code",
   "execution_count": 20,
   "id": "4ec3b207",
   "metadata": {
    "collapsed": false
   },
   "outputs": [],
   "source": [
    "def edit_tick_label(tick_val, tick_pos):\n",
    "    if tick_val  < 0:\n",
    "        text = str(int(tick_val)).replace(\"-\", \"Republican+\")\n",
    "    else:\n",
    "        text = \"Democrat+\"+str(int(tick_val))\n",
    "    return text"
   ]
  },
  {
   "cell_type": "code",
   "execution_count": 21,
   "id": "49cb36ae",
   "metadata": {
    "collapsed": false
   },
   "outputs": [
    {
     "data": {
      "image/png": "[encoded data removed]"
     },
     "metadata": {},
     "output_type": "display_data"
    }
   ],
   "source": [
    "from pandas import lib\n",
    "from matplotlib.ticker import FuncFormatter\n",
    "fig, axes = plt.subplots(figsize=(12,8))\n",
    "\n",
    "data = national_2004[[\"Date\", \"dem_spread\"]]\n",
    "#data = data.ix[data.Date >= days_before2004]\n",
    "#data = pandas.concat((data, national_data2012[[\"Date\", \"dem_spread\"]]))\n",
    "    \n",
    "data.sort(\"Date\", inplace=True)\n",
    "dates = pandas.DatetimeIndex(data.Date).asi8\n",
    "\n",
    "x = data.dem_spread.values.astype(float)\n",
    "lowess_res = sm.nonparametric.lowess(x, dates, \n",
    "                                    frac=.2, it=3)[:,1]\n",
    "\n",
    "dates_x = lib.ints_to_pydatetime(dates)\n",
    "axes.scatter(dates_x, data[\"dem_spread\"])\n",
    "axes.plot(dates_x, lowess_res, color='r', lw=4)\n",
    "axes.yaxis.get_major_locator().set_params(nbins=12)\n",
    "axes.yaxis.set_major_formatter(FuncFormatter(edit_tick_label))\n",
    "axes.grid(False, axis='x')\n",
    "axes.hlines(-1.21, dates_x[0], dates_x[-1], color='black', lw=3)\n",
    "axes.vlines(datetime.datetime(2004, 8, 5), -20, 15, lw=3)\n",
    "axes.margins(0, .00)"
   ]
  },
  {
   "cell_type": "markdown",
   "id": "f8c559e9",
   "metadata": {},
   "source": [
    "### Let's look at the State Polls"
   ]
  },
  {
   "cell_type": "code",
   "execution_count": 22,
   "id": "94cbd6ee",
   "metadata": {
    "collapsed": false
   },
   "outputs": [
    {
     "data": {
      "image/png": "[encoded data removed]"
     },
     "metadata": {},
     "output_type": "display_data"
    }
   ],
   "source": [
    "from pandas import lib\n",
    "from matplotlib.ticker import FuncFormatter\n",
    "fig, axes = plt.subplots(figsize=(12,8))\n",
    "\n",
    "data = state_data2004[[\"Date\", \"dem_spread\"]]\n",
    "#data = data.ix[data.Date >= days_before2004]\n",
    "data = data.ix[data.Date >= datetime.datetime(2004, 7, 15)]\n",
    "#data = pandas.concat((data, national_data2012[[\"Date\", \"dem_spread\"]]))\n",
    "    \n",
    "data.sort(\"Date\", inplace=True)\n",
    "dates = pandas.DatetimeIndex(data.Date).asi8\n",
    "\n",
    "x = data.dem_spread.values.astype(float)\n",
    "lowess_res = sm.nonparametric.lowess(x, dates, \n",
    "                                    frac=.2, it=3)[:,1]\n",
    "\n",
    "dates_x = lib.ints_to_pydatetime(dates)\n",
    "axes.scatter(dates_x, data[\"dem_spread\"])\n",
    "axes.plot(dates_x, lowess_res, color='r', lw=4)\n",
    "axes.yaxis.get_major_locator().set_params(nbins=12)\n",
    "axes.yaxis.set_major_formatter(FuncFormatter(edit_tick_label))\n",
    "axes.grid(False, axis='x')\n",
    "axes.hlines(-1.21, dates_x[0], dates_x[-1], color='black', lw=3)\n",
    "axes.margins(0, .05)"
   ]
  },
  {
   "cell_type": "code",
   "execution_count": 23,
   "id": "87897069",
   "metadata": {
    "collapsed": false
   },
   "outputs": [
    {
     "data": {
      "image/png": "[encoded data removed]"
     },
     "metadata": {},
     "output_type": "display_data"
    }
   ],
   "source": [
    "from pandas import lib\n",
    "from matplotlib.ticker import FuncFormatter\n",
    "fig, axes = plt.subplots(figsize=(12,8))\n",
    "\n",
    "data = state_data2008[[\"Date\", \"dem_spread\"]]\n",
    "data = data.ix[data.Date >= datetime.datetime(2008, 7, 15)]\n",
    "#data = data.ix[data.Date >= days_before2008]\n",
    "#data = pandas.concat((data, national_data2012[[\"Date\", \"dem_spread\"]]))\n",
    "    \n",
    "data.sort(\"Date\", inplace=True)\n",
    "dates = pandas.DatetimeIndex(data.Date).asi8\n",
    "\n",
    "x = data.dem_spread.values.astype(float)\n",
    "lowess_res = sm.nonparametric.lowess(x, dates, \n",
    "                                    frac=.2, it=3)[:,1]\n",
    "\n",
    "dates_x = lib.ints_to_pydatetime(dates)\n",
    "axes.scatter(dates_x, data[\"dem_spread\"])\n",
    "axes.plot(dates_x, lowess_res, color='r', lw=4)\n",
    "axes.yaxis.get_major_locator().set_params(nbins=12)\n",
    "axes.yaxis.set_major_formatter(FuncFormatter(edit_tick_label))\n",
    "axes.grid(False, axis='x')\n",
    "axes.hlines(3.65, dates_x[0], dates_x[-1], color='black', lw=3)\n",
    "axes.vlines(datetime.datetime(2008, 8, 29), -45, 70, lw=3)\n",
    "axes.vlines(datetime.datetime(2008, 9, 24), -45, 70, lw=3)\n",
    "axes.margins(0, .0)"
   ]
  },
  {
   "cell_type": "markdown",
   "id": "3f67f1ea",
   "metadata": {},
   "source": [
    "#### Clean the data"
   ]
  },
  {
   "cell_type": "code",
   "execution_count": 24,
   "id": "423d72e8",
   "metadata": {
    "collapsed": false
   },
   "outputs": [],
   "source": [
    "#loadpy https://raw.github.com/gist/3912533/d958b515f602f6e73f7b16d8bc412bc8d1f433d9/state_abbrevs.py;"
   ]
  },
  {
   "cell_type": "code",
   "execution_count": 25,
   "id": "6f067860",
   "metadata": {
    "collapsed": false
   },
   "outputs": [],
   "source": [
    "states_abbrev_dict = {\n",
    "        'AK': 'Alaska',\n",
    "        'AL': 'Alabama',\n",
    "        'AR': 'Arkansas',\n",
    "        'AS': 'American Samoa',\n",
    "        'AZ': 'Arizona',\n",
    "        'CA': 'California',\n",
    "        'CO': 'Colorado',\n",
    "        'CT': 'Connecticut',\n",
    "        'DC': 'District of Columbia',\n",
    "        'DE': 'Delaware',\n",
    "        'FL': 'Florida',\n",
    "        'GA': 'Georgia',\n",
    "        'GU': 'Guam',\n",
    "        'HI': 'Hawaii',\n",
    "        'IA': 'Iowa',\n",
    "        'ID': 'Idaho',\n",
    "        'IL': 'Illinois',\n",
    "        'IN': 'Indiana',\n",
    "        'KS': 'Kansas',\n",
    "        'KY': 'Kentucky',\n",
    "        'LA': 'Louisiana',\n",
    "        'MA': 'Massachusetts',\n",
    "        'MD': 'Maryland',\n",
    "        'ME': 'Maine',\n",
    "        'MI': 'Michigan',\n",
    "        'MN': 'Minnesota',\n",
    "        'MO': 'Missouri',\n",
    "        'MP': 'Northern Mariana Islands',\n",
    "        'MS': 'Mississippi',\n",
    "        'MT': 'Montana',\n",
    "        'NA': 'National',\n",
    "        'NC': 'North Carolina',\n",
    "        'ND': 'North Dakota',\n",
    "        'NE': 'Nebraska',\n",
    "        'NH': 'New Hampshire',\n",
    "        'NJ': 'New Jersey',\n",
    "        'NM': 'New Mexico',\n",
    "        'NV': 'Nevada',\n",
    "        'NY': 'New York',\n",
    "        'OH': 'Ohio',\n",
    "        'OK': 'Oklahoma',\n",
    "        'OR': 'Oregon',\n",
    "        'PA': 'Pennsylvania',\n",
    "        'PR': 'Puerto Rico',\n",
    "        'RI': 'Rhode Island',\n",
    "        'SC': 'South Carolina',\n",
    "        'SD': 'South Dakota',\n",
    "        'TN': 'Tennessee',\n",
    "        'TX': 'Texas',\n",
    "        'UT': 'Utah',\n",
    "        'VA': 'Virginia',\n",
    "        'VI': 'Virgin Islands',\n",
    "        'VT': 'Vermont',\n",
    "        'WA': 'Washington',\n",
    "        'WI': 'Wisconsin',\n",
    "        'WV': 'West Virginia',\n",
    "        'WY': 'Wyoming'\n",
    "}"
   ]
  },
  {
   "cell_type": "code",
   "execution_count": 26,
   "id": "ba659050",
   "metadata": {
    "collapsed": false
   },
   "outputs": [],
   "source": [
    "state_data2004.State.replace(states_abbrev_dict, inplace=True);\n",
    "state_data2008.State.replace(states_abbrev_dict, inplace=True);"
   ]
  },
  {
   "cell_type": "code",
   "execution_count": 27,
   "id": "dc5d2571",
   "metadata": {
    "collapsed": false
   },
   "outputs": [],
   "source": [
    "state_data2004[\"days_until\"] = date2004 - state_data2004.Date\n",
    "state_data2008[\"days_until\"] = date2008 - state_data2004.Date"
   ]
  },
  {
   "cell_type": "code",
   "execution_count": 28,
   "id": "762d1fe6",
   "metadata": {
    "collapsed": false
   },
   "outputs": [],
   "source": [
    "#state_data2004 = state_data2004.drop(\n",
    "#                    state_data2004.index[state_data2004.days_until > days_before])\n",
    "#state_data2008 = state_data2008.drop(\n",
    "#                    state_data2008.index[state_data2008.days_until > days_before])"
   ]
  },
  {
   "cell_type": "code",
   "execution_count": 29,
   "id": "4613f33c",
   "metadata": {
    "collapsed": false
   },
   "outputs": [],
   "source": [
    "def exp_decay(days):\n",
    "    # defensive coding, accepts timedeltas\n",
    "    days = getattr(days, \"days\", days)\n",
    "    return .5 ** (days/30.)"
   ]
  },
  {
   "cell_type": "code",
   "execution_count": 30,
   "id": "ef41a95d",
   "metadata": {
    "collapsed": false
   },
   "outputs": [],
   "source": [
    "state_data2004[\"time_weight_oct2\"] = (days_before2004 - \n",
    "                                      state_data2004[\"Date\"]).apply(exp_decay)\n",
    "state_data2004[\"time_weight_election\"] = (date2004 -\n",
    "                                      state_data2004[\"Date\"]).apply(exp_decay)\n",
    "state_data2008[\"time_weight_oct2\"] = (days_before2008 - \n",
    "                                      state_data2008[\"Date\"]).apply(exp_decay)\n",
    "state_data2008[\"time_weight_election\"] = (date2008 -\n",
    "                                      state_data2008[\"Date\"]).apply(exp_decay)"
   ]
  },
  {
   "cell_type": "code",
   "execution_count": 31,
   "id": "93a9e2e7",
   "metadata": {
    "collapsed": false
   },
   "outputs": [],
   "source": [
    "def weighted_mean(group, weights_name):\n",
    "    weights = group[weights_name]\n",
    "    return np.sum(weights*group[\"dem_spread\"]/np.sum(weights))"
   ]
  },
  {
   "cell_type": "markdown",
   "id": "27d83219",
   "metadata": {},
   "source": [
    "#### Get weighted average State-level polls for Oct 2 and Election Day"
   ]
  },
  {
   "cell_type": "code",
   "execution_count": 32,
   "id": "34e4b9d3",
   "metadata": {
    "collapsed": false
   },
   "outputs": [],
   "source": [
    "def get_state_averages(dframe, time_weight_name):\n",
    "    dframe_pollsters = dframe.groupby([\"State\", \"Pollster\"])\n",
    "    dframe_result = dframe_pollsters.apply(weighted_mean, time_weight_name)\n",
    "    dframe_result.name = \"dem_spread\"\n",
    "    dframe_result = dframe_result.reset_index()\n",
    "    dframe_result = dframe_result.merge(dframe[[\"Pollster\", \"Weight\"]],\n",
    "                          on=\"Pollster\")\n",
    "    return dframe_result.groupby(\"State\").apply(weighted_mean, \"Weight\")\n",
    "    "
   ]
  },
  {
   "cell_type": "code",
   "execution_count": 33,
   "id": "4dd0d136",
   "metadata": {
    "collapsed": false
   },
   "outputs": [],
   "source": [
    "oct2 = state_data2004.Date <= days_before2004\n",
    "state_polls_oct2_2004 = get_state_averages(state_data2004.ix[oct2], \"time_weight_oct2\")\n",
    "state_polls_election_2004 = get_state_averages(state_data2004, \"time_weight_election\")\n",
    "updated2004 = state_data2004.ix[~oct2].State.unique()\n",
    "updated2004.sort()"
   ]
  },
  {
   "cell_type": "code",
   "execution_count": 34,
   "id": "83ebef0a",
   "metadata": {
    "collapsed": false
   },
   "outputs": [],
   "source": [
    "oct2 = state_data2008.Date <= days_before2008\n",
    "state_polls_oct2_2008 = get_state_averages(state_data2008.ix[oct2], \"time_weight_oct2\")\n",
    "state_polls_election_2008 = get_state_averages(state_data2008, \"time_weight_election\")\n",
    "updated2008 = state_data2008.ix[~oct2].State.unique()\n",
    "updated2008.sort()"
   ]
  },
  {
   "cell_type": "markdown",
   "id": "52f379bf",
   "metadata": {},
   "source": [
    "#### Get Economic Data"
   ]
  },
  {
   "cell_type": "markdown",
   "id": "2894bc58",
   "metadata": {},
   "source": [
    "<table>\n",
    "    <thead>\n",
    "        <tr style=\"background: black; color: white; text-align: center\">\n",
    "            <th style=\"padding: 15px; border-right-color: white; text-align: center\">FRED Variable</th>\n",
    "            <th style=\"padding: 15px; border-left-color: white; text-align: center\">Explanation</th>\n",
    "        </tr>\n",
    "    </thead>\n",
    "    <tbody>\n",
    "        <tr>\n",
    "            <td><b>PAYEMS</b></td>\n",
    "            <td>Nonfarm-Payrolls (Job Growth)</td>\n",
    "        </tr>\n",
    "        <tr>\n",
    "            <td><b>PI</b></td>\n",
    "            <td>Personal Income</td>\n",
    "        </tr>\n",
    "        <tr>\n",
    "            <td><b>INDPRO</b></td>\n",
    "            <td>Industrial Production</td>\n",
    "        </tr>\n",
    "        <tr>\n",
    "            <td><b>PCEC96</b></td>\n",
    "            <td>Consumption</td>\n",
    "        </tr>\n",
    "        <tr>\n",
    "            <td><b>CPIAUCSL</b></td>\n",
    "            <td>Inflation</td>\n",
    "        </tr>\n",
    "    </tbody>\n",
    "</table>"
   ]
  },
  {
   "cell_type": "code",
   "execution_count": 35,
   "id": "2edf6383",
   "metadata": {
    "collapsed": false
   },
   "outputs": [],
   "source": [
    "from pandas.io.data import DataReader"
   ]
  },
  {
   "cell_type": "code",
   "execution_count": 36,
   "id": "743a1054",
   "metadata": {
    "collapsed": false
   },
   "outputs": [],
   "source": [
    "series = dict(jobs = \"PAYEMS\",\n",
    "              income = \"PI\",\n",
    "              prod = \"INDPRO\",\n",
    "              cons = \"PCEC96\",\n",
    "              prices = \"CPIAUCSL\")"
   ]
  },
  {
   "cell_type": "code",
   "execution_count": 37,
   "id": "7c828a31",
   "metadata": {
    "collapsed": false
   },
   "outputs": [],
   "source": [
    "try:\n",
    "    indicators = []\n",
    "    for variable in series:\n",
    "        data = DataReader(series[variable], \"fred\", start=\"2000-10-1\")\n",
    "        data.rename(columns={series[variable] : variable}, inplace=True)\n",
    "        indicators.append(data)\n",
    "    indicators = pandas.concat(indicators, axis=1)\n",
    "    indicators.to_csv(\"/home/skipper/school/talks/538model/tmp_indicators_full.csv\")\n",
    "except: # probably not online\n",
    "    indicators = pandas.read_csv(\"/home/skipper/school/talks/538model/tmp_indicators_full.csv\", \n",
    "                                 parse_dates=True)\n",
    "    indicators.set_index(\"DATE\", inplace=True)\n",
    "    # why doesn't it do this automaticall?\n",
    "    indicators.index = pandas.DatetimeIndex(indicators.index)"
   ]
  },
  {
   "cell_type": "markdown",
   "id": "13847875",
   "metadata": {},
   "source": [
    "For stock variables, just compute annualized quarterly growth rates (end - beginning)/beginning * 400 and average."
   ]
  },
  {
   "cell_type": "code",
   "execution_count": 38,
   "id": "935d069e",
   "metadata": {
    "collapsed": false
   },
   "outputs": [],
   "source": [
    "quarterly_growth = np.log(indicators.resample(\"Q\", \n",
    "                          how=\"mean\")).diff() * 400\n",
    "annualized = quarterly_growth.resample(\"A\", how=\"mean\")"
   ]
  },
  {
   "cell_type": "code",
   "execution_count": 39,
   "id": "c2470666",
   "metadata": {
    "collapsed": false
   },
   "outputs": [],
   "source": [
    "quarterly_growth = quarterly_growth.dropna()"
   ]
  },
  {
   "cell_type": "markdown",
   "id": "bcf2b800",
   "metadata": {},
   "source": [
    "Try to be rigorous about what the voters know at the time of election."
   ]
  },
  {
   "cell_type": "code",
   "execution_count": 40,
   "id": "6ce854d5",
   "metadata": {
    "collapsed": false
   },
   "outputs": [],
   "source": [
    "econ2004 = quarterly_growth.ix[:15].resample('A', 'mean').mean()"
   ]
  },
  {
   "cell_type": "code",
   "execution_count": 41,
   "id": "f639b085",
   "metadata": {
    "collapsed": false
   },
   "outputs": [],
   "source": [
    "econ2008 = quarterly_growth.ix[15:31].resample('A', 'mean').mean()"
   ]
  },
  {
   "cell_type": "markdown",
   "id": "95130588",
   "metadata": {},
   "source": [
    "Leave out last quarter 2008 because that's on Bush? Do voters see it that way...?"
   ]
  },
  {
   "cell_type": "code",
   "execution_count": 42,
   "id": "fce1f9eb",
   "metadata": {
    "collapsed": false
   },
   "outputs": [],
   "source": [
    "econ2012 = quarterly_growth.ix[32:].resample('A', 'mean').mean()"
   ]
  },
  {
   "cell_type": "markdown",
   "id": "d98db2bc",
   "metadata": {},
   "source": [
    "For flow variables, sum the quarters and get annualized quarter over quarter changes then average."
   ]
  },
  {
   "cell_type": "markdown",
   "id": "5d8fb68d",
   "metadata": {},
   "source": [
    "#### Get Demographic Data"
   ]
  },
  {
   "cell_type": "markdown",
   "id": "3b7bca03",
   "metadata": {},
   "source": [
    "Partisan voting index"
   ]
  },
  {
   "cell_type": "code",
   "execution_count": 43,
   "id": "a75c2317",
   "metadata": {
    "collapsed": false
   },
   "outputs": [
    {
     "data": {
      "text/plain": [
       "State\n",
       "Alabama                -13\n",
       "Alaska                 -13\n",
       "Arizona                 -6\n",
       "Arkansas                -9\n",
       "California               7\n",
       "Colorado                 0\n",
       "Connecticut              7\n",
       "Delaware                 7\n",
       "District of Columbia    39\n",
       "Florida                 -2\n",
       "Georgia                 -7\n",
       "Hawaii                  12\n",
       "Idaho                  -17\n",
       "Illinois                 8\n",
       "Indiana                 -6\n",
       "Iowa                     1\n",
       "Kansas                 -12\n",
       "Kentucky               -10\n",
       "Louisiana              -10\n",
       "Maine                    5\n",
       "Maryland                 9\n",
       "Massachusetts           12\n",
       "Michigan                 4\n",
       "Minnesota                2\n",
       "Mississippi            -10\n",
       "Missouri                -3\n",
       "Montana                 -7\n",
       "Nebraska               -13\n",
       "Nevada                   1\n",
       "New Hampshire            2\n",
       "New Jersey               4\n",
       "New Mexico               2\n",
       "New York                10\n",
       "North Carolina          -4\n",
       "North Dakota           -10\n",
       "Ohio                    -1\n",
       "Oklahoma               -17\n",
       "Oregon                   4\n",
       "Pennsylvania             2\n",
       "Rhode Island            11\n",
       "South Carolina          -8\n",
       "South Dakota            -9\n",
       "Tennessee               -9\n",
       "Texas                  -10\n",
       "Utah                   -20\n",
       "Vermont                 13\n",
       "Virginia                -2\n",
       "Washington               5\n",
       "West Virginia           -8\n",
       "Wisconsin                2\n",
       "Wyoming                -20\n",
       "Name: PVI, Length: 51"
      ]
     },
     "execution_count": 43,
     "metadata": {},
     "output_type": "execute_result"
    }
   ],
   "source": [
    "pvi = pandas.read_csv(\"/home/skipper/school/talks/538model/data/partisan_voting.csv\")\n",
    "pvi.set_index(\"State\", inplace=True);\n",
    "pvi.PVI = pvi.PVI.replace({\"EVEN\" : \"0\"})\n",
    "pvi.PVI = pvi.PVI.str.replace(\"R\\+\", \"-\")\n",
    "pvi.PVI = pvi.PVI.str.replace(\"D\\+\", \"\")\n",
    "pvi.PVI = pvi.PVI.astype(float)\n",
    "pvi.PVI"
   ]
  },
  {
   "cell_type": "markdown",
   "id": "d082d194",
   "metadata": {},
   "source": [
    "Gallup party affiliation (Poll Jan.-Jun. 2012)"
   ]
  },
  {
   "cell_type": "code",
   "execution_count": 44,
   "id": "c7f61a46",
   "metadata": {
    "collapsed": false
   },
   "outputs": [
    {
     "data": {
      "text/plain": [
       "                      dem_adv  no_party\n",
       "State                                  \n",
       "District of Columbia    66.30       8.3\n",
       "Rhode Island            26.00      21.0\n",
       "Hawaii                  25.60      17.0\n",
       "New York                21.20      17.2\n",
       "Maryland                20.20      12.2\n",
       "Massachusetts           19.10      14.1\n",
       "Delaware                17.40      16.4\n",
       "Connecticut             15.40      15.8\n",
       "Vermont                 13.90      16.3\n",
       "California              13.70      17.1\n",
       "Illinois                12.60      15.8\n",
       "New Jersey              11.50      16.7\n",
       "Michigan                11.10      15.7\n",
       "Minnesota               10.20      13.4\n",
       "Washington               9.80      14.8\n",
       "Oregon                   8.10      13.7\n",
       "Pennsylvania             5.20      12.4\n",
       "Maine                    4.40      16.8\n",
       "New Mexico               3.60      14.2\n",
       "Ohio                     3.60      15.4\n",
       "West Virginia            3.40      12.8\n",
       "Wisconsin                2.80      12.8\n",
       "Iowa                     1.80      15.4\n",
       "Florida                  0.70      14.7\n",
       "Arkansas                 0.70      17.7\n",
       "Kentucky                 0.40      13.4\n",
       "North Carolina           0.20      13.4\n",
       "New Hampshire           -1.50      13.9\n",
       "Virginia                -3.00      14.6\n",
       "Missouri                -3.90      15.9\n",
       "Georgia                 -4.00      15.4\n",
       "Nevada                  -4.20      17.4\n",
       "Louisiana               -4.80      14.6\n",
       "Colorado                -5.20      15.0\n",
       "Texas                   -5.80      17.6\n",
       "South Dakota            -6.00      11.0\n",
       "Indiana                 -6.70      15.3\n",
       "Mississippi             -7.00      12.8\n",
       "Arizona                 -7.50      12.9\n",
       "Tennessee               -8.40      15.4\n",
       "Alaska                  -8.44      19.8\n",
       "Oklahoma                -9.40      13.4\n",
       "South Carolina         -11.90      14.3\n",
       "North Dakota           -13.20      15.2\n",
       "Alabama                -13.60      14.4\n",
       "Montana                -13.70      14.5\n",
       "Kansas                 -16.90      14.3\n",
       "Nebraska               -19.00      14.8\n",
       "Wyoming                -29.90      16.7\n",
       "Idaho                  -30.30      14.7\n",
       "Utah                   -39.30      11.7"
      ]
     },
     "execution_count": 44,
     "metadata": {},
     "output_type": "execute_result"
    }
   ],
   "source": [
    "party_affil = pandas.read_csv(\"/home/skipper/school/talks/538model/\"\n",
    "                              \"data/gallup_electorate.csv\")\n",
    "party_affil.Democrat = party_affil.Democrat.str.replace(\"%\", \"\").astype(float)\n",
    "party_affil.Republican = party_affil.Republican.str.replace(\"%\", \"\").astype(float)\n",
    "party_affil.set_index(\"State\", inplace=True);\n",
    "party_affil.rename(columns={\"Democrat Advantage\" : \"dem_adv\"}, inplace=True);\n",
    "party_affil[\"no_party\"] = 100 - party_affil.Democrat - party_affil.Republican\n",
    "party_affil[[\"dem_adv\", \"no_party\"]]"
   ]
  },
  {
   "cell_type": "markdown",
   "id": "ae8bba8c",
   "metadata": {},
   "source": [
    "Census data"
   ]
  },
  {
   "cell_type": "code",
   "execution_count": 45,
   "id": "d1b28ce2",
   "metadata": {
    "collapsed": false
   },
   "outputs": [],
   "source": [
    "census_data_2012 = pandas.read_csv(\"/home/skipper/school/talks/\"\n",
    "                              \"538model/data/census_demographics.csv\")\n",
    "def capitalize(s):\n",
    "    s = s.title()\n",
    "    s = s.replace(\"Of\", \"of\")\n",
    "    return s\n",
    "census_data_2012[\"State\"] = census_data_2012.state.map(capitalize)\n",
    "del census_data_2012[\"state\"]\n",
    "census_data_2012.set_index(\"State\", inplace=True);"
   ]
  },
  {
   "cell_type": "code",
   "execution_count": 46,
   "id": "308d01e4",
   "metadata": {
    "collapsed": false
   },
   "outputs": [],
   "source": [
    "census_data_2000 = pandas.read_csv(\"/home/skipper/school/talks/\"\n",
    "                                   \"538model/data/census_data_2000.csv\")\n",
    "census_data_2000.set_index(\"State\", inplace=True);"
   ]
  },
  {
   "cell_type": "code",
   "execution_count": 47,
   "id": "adba2ad6",
   "metadata": {
    "collapsed": false
   },
   "outputs": [],
   "source": [
    "census_data_2005 = (census_data_2000 + census_data_2012) / 2."
   ]
  },
  {
   "cell_type": "markdown",
   "id": "b8c555a5",
   "metadata": {},
   "source": [
    "#### Model reversion to the \"mean\""
   ]
  },
  {
   "cell_type": "markdown",
   "id": "39d3af6a",
   "metadata": {},
   "source": [
    "##### A little more data preparation"
   ]
  },
  {
   "cell_type": "code",
   "execution_count": 48,
   "id": "4a1a6aae",
   "metadata": {
    "collapsed": false
   },
   "outputs": [],
   "source": [
    "changes_2004 = state_polls_election_2004.ix[updated2004].sub(\n",
    "                    state_polls_oct2_2004)\n",
    "changes_2004 = changes_2004.dropna()"
   ]
  },
  {
   "cell_type": "code",
   "execution_count": 49,
   "id": "be27c230",
   "metadata": {
    "collapsed": false
   },
   "outputs": [],
   "source": [
    "changes_2008 = state_polls_election_2008.ix[updated2008].sub(\n",
    "                    state_polls_oct2_2008)\n",
    "changes_2008 = changes_2008.dropna()"
   ]
  },
  {
   "cell_type": "code",
   "execution_count": 50,
   "id": "f5c1aa47",
   "metadata": {
    "collapsed": false
   },
   "outputs": [
    {
     "data": {
      "text/plain": [
       "Alabama          -1.533\n",
       "Arizona          -2.196\n",
       "Arkansas         -0.278\n",
       "California       -0.022\n",
       "Colorado         -0.615\n",
       "Florida           0.170\n",
       "Georgia           2.119\n",
       "Illinois          3.262\n",
       "Indiana           2.566\n",
       "Iowa              0.154\n",
       "Kansas            1.640\n",
       "Kentucky         -3.251\n",
       "Maine             3.151\n",
       "Maryland          2.609\n",
       "Michigan         -0.471\n",
       "Minnesota         0.363\n",
       "Missouri         -1.095\n",
       "Montana           0.495\n",
       "Nevada           -1.676\n",
       "New Hampshire     0.689\n",
       "New Jersey        3.254\n",
       "New Mexico       -2.374\n",
       "New York          2.350\n",
       "North Carolina   -0.304\n",
       "Ohio              2.134\n",
       "Oklahoma         -1.377\n",
       "Oregon            3.295\n",
       "Pennsylvania      0.210\n",
       "Rhode Island     -2.322\n",
       "South Carolina   -0.051\n",
       "South Dakota      0.009\n",
       "Tennessee        -3.368\n",
       "Texas            -0.620\n",
       "Virginia         -1.851\n",
       "Washington       -0.155\n",
       "West Virginia    -0.254\n",
       "Wisconsin        -0.022"
      ]
     },
     "execution_count": 50,
     "metadata": {},
     "output_type": "execute_result"
    }
   ],
   "source": [
    "changes_2004"
   ]
  },
  {
   "cell_type": "code",
   "execution_count": 51,
   "id": "3a054695",
   "metadata": {
    "collapsed": false
   },
   "outputs": [
    {
     "data": {
      "text/plain": [
       "Alabama           1.409\n",
       "Alaska            1.032\n",
       "Arizona           4.619\n",
       "Arkansas          0.016\n",
       "California        6.518\n",
       "Colorado          1.487\n",
       "Connecticut       1.022\n",
       "Delaware          4.191\n",
       "Florida           2.063\n",
       "Georgia           2.469\n",
       "Illinois          1.660\n",
       "Indiana           1.171\n",
       "Iowa              1.709\n",
       "Kansas            0.727\n",
       "Kentucky          1.636\n",
       "Louisiana        -0.125\n",
       "Maine             3.708\n",
       "Massachusetts     4.180\n",
       "Michigan          1.890\n",
       "Minnesota         1.464\n",
       "Mississippi       0.339\n",
       "Missouri          5.364\n",
       "Montana           0.403\n",
       "Nevada            2.548\n",
       "New Hampshire     6.714\n",
       "New Jersey        0.812\n",
       "New Mexico        2.179\n",
       "New York          5.212\n",
       "North Carolina    4.124\n",
       "Ohio              3.271\n",
       "Oklahoma          1.392\n",
       "Oregon            5.742\n",
       "Pennsylvania      3.088\n",
       "South Carolina    1.726\n",
       "South Dakota      1.904\n",
       "Tennessee         1.873\n",
       "Texas            -0.120\n",
       "Utah              0.236\n",
       "Vermont           0.008\n",
       "Virginia          2.594\n",
       "Washington        3.398\n",
       "West Virginia     0.667\n",
       "Wisconsin         3.615\n",
       "Wyoming          -0.821"
      ]
     },
     "execution_count": 51,
     "metadata": {},
     "output_type": "execute_result"
    }
   ],
   "source": [
    "changes_2008"
   ]
  },
  {
   "cell_type": "code",
   "execution_count": 52,
   "id": "c1cf9538",
   "metadata": {
    "collapsed": false
   },
   "outputs": [],
   "source": [
    "for name in econ2004.index:\n",
    "    census_data_2000[name] = econ2004.ix[name]"
   ]
  },
  {
   "cell_type": "code",
   "execution_count": 53,
   "id": "2c09171f",
   "metadata": {
    "collapsed": false
   },
   "outputs": [],
   "source": [
    "for name in econ2008.index:\n",
    "    census_data_2005[name] = econ2008.ix[name]"
   ]
  },
  {
   "cell_type": "code",
   "execution_count": 54,
   "id": "97a0f0dc",
   "metadata": {
    "collapsed": false
   },
   "outputs": [],
   "source": [
    "census_data_2000[\"poll_change\"] = changes_2004\n",
    "census_data_2005[\"poll_change\"] = changes_2008\n",
    "#changes_2008 = changes_2008.join(census_data_2005)"
   ]
  },
  {
   "cell_type": "code",
   "execution_count": 55,
   "id": "3c3d5e11",
   "metadata": {
    "collapsed": false
   },
   "outputs": [],
   "source": [
    "#years = pandas.DataFrame([2004]*len(changes_2004), columns=[\"Year\"], index=changes_2004.index)"
   ]
  },
  {
   "cell_type": "code",
   "execution_count": 56,
   "id": "769a78c1",
   "metadata": {
    "collapsed": false
   },
   "outputs": [],
   "source": [
    "#years[\"poll_change\"] = changes_2004\n",
    "#changes_2004 = years"
   ]
  },
  {
   "cell_type": "code",
   "execution_count": 57,
   "id": "141eb264",
   "metadata": {
    "collapsed": false
   },
   "outputs": [],
   "source": [
    "#years = pandas.DataFrame([2008]*len(changes_2008), columns=[\"Year\"], index=changes_2008.index)\n",
    "#years[\"poll_change\"] = changes_2008\n",
    "#changes_2008 = years"
   ]
  },
  {
   "cell_type": "code",
   "execution_count": 58,
   "id": "ead295f4",
   "metadata": {
    "collapsed": false
   },
   "outputs": [],
   "source": [
    "#changes_2004"
   ]
  },
  {
   "cell_type": "code",
   "execution_count": 59,
   "id": "fe225392",
   "metadata": {
    "collapsed": false
   },
   "outputs": [],
   "source": [
    "#changes_2004 = changes_2004.join(census_data_2000, how=\"left\")\n",
    "#changes_2008 = changes_2008.join(census_data_2000, how=\"left\")"
   ]
  },
  {
   "cell_type": "code",
   "execution_count": 60,
   "id": "fd82d7ac",
   "metadata": {
    "collapsed": false
   },
   "outputs": [],
   "source": [
    "census_data_2000[\"year\"] = 2004\n",
    "census_data_2005[\"year\"] = 2008"
   ]
  },
  {
   "cell_type": "code",
   "execution_count": 61,
   "id": "3bbcf4b1",
   "metadata": {
    "collapsed": false
   },
   "outputs": [],
   "source": [
    "changes = pandas.concat((census_data_2000.reset_index(), census_data_2005.reset_index()))"
   ]
  },
  {
   "cell_type": "code",
   "execution_count": 62,
   "id": "b4199933",
   "metadata": {
    "collapsed": false
   },
   "outputs": [],
   "source": [
    "changes.reset_index(drop=True, inplace=True);"
   ]
  },
  {
   "cell_type": "code",
   "execution_count": 63,
   "id": "d1c2eb50",
   "metadata": {
    "collapsed": false
   },
   "outputs": [],
   "source": [
    "changes = changes.dropna() # don't have polls for all the states"
   ]
  },
  {
   "cell_type": "code",
   "execution_count": 64,
   "id": "b377f02f",
   "metadata": {
    "collapsed": false
   },
   "outputs": [],
   "source": [
    "predict = census_data_2012.reset_index()"
   ]
  },
  {
   "cell_type": "code",
   "execution_count": 65,
   "id": "9451ae1d",
   "metadata": {
    "collapsed": false
   },
   "outputs": [],
   "source": [
    "predict[\"year\"] = 2012"
   ]
  },
  {
   "cell_type": "markdown",
   "id": "95694a9f",
   "metadata": {},
   "source": [
    "Add in Partisan information"
   ]
  },
  {
   "cell_type": "code",
   "execution_count": 66,
   "id": "b5e7c603",
   "metadata": {
    "collapsed": false
   },
   "outputs": [],
   "source": [
    "changes = changes.merge(pvi.reset_index(), on=\"State\")\n",
    "predict = predict.merge(pvi.reset_index(), on=\"State\")"
   ]
  },
  {
   "cell_type": "markdown",
   "id": "ac250409",
   "metadata": {},
   "source": [
    "Add in Party affiliation information"
   ]
  },
  {
   "cell_type": "code",
   "execution_count": 67,
   "id": "3b238722",
   "metadata": {
    "collapsed": false
   },
   "outputs": [],
   "source": [
    "changes = changes.merge(party_affil[[\"dem_adv\", \"no_party\"]].reset_index(), on=\"State\")\n",
    "predict = predict.merge(party_affil[[\"dem_adv\", \"no_party\"]].reset_index(), on=\"State\")"
   ]
  },
  {
   "cell_type": "markdown",
   "id": "1ae41572",
   "metadata": {},
   "source": [
    "#### Do the K-means clustering for similar states"
   ]
  },
  {
   "cell_type": "code",
   "execution_count": 68,
   "id": "e9abac7e",
   "metadata": {
    "collapsed": false
   },
   "outputs": [],
   "source": [
    "from scipy.cluster import vq\n",
    "from sklearn import cluster"
   ]
  },
  {
   "cell_type": "code",
   "execution_count": 69,
   "id": "23f1225e",
   "metadata": {
    "collapsed": false
   },
   "outputs": [],
   "source": [
    "clstr_dta = predict[[\"per_black\", \"per_hisp\", \"per_white\", \"educ_coll\", \"pop_density\", \"per_older\", \"PVI\", \"dem_adv\"]].values"
   ]
  },
  {
   "cell_type": "code",
   "execution_count": 70,
   "id": "42eddc87",
   "metadata": {
    "collapsed": false
   },
   "outputs": [],
   "source": [
    "clstr_dta = vq.whiten(clstr_dta) # might want to play with this to emphasize dimensions?"
   ]
  },
  {
   "cell_type": "code",
   "execution_count": 71,
   "id": "d94cc733",
   "metadata": {
    "collapsed": false
   },
   "outputs": [],
   "source": [
    "kmeans = cluster.KMeans(n_clusters=7, n_init=100)\n",
    "kmeans.fit(clstr_dta)\n",
    "values = kmeans.cluster_centers_\n",
    "labels = kmeans.labels_"
   ]
  },
  {
   "cell_type": "code",
   "execution_count": 72,
   "id": "dd5ac9d4",
   "metadata": {
    "collapsed": false
   },
   "outputs": [],
   "source": [
    "predict[\"kmeans_groups\"] = labels"
   ]
  },
  {
   "cell_type": "code",
   "execution_count": 73,
   "id": "5eafbacd",
   "metadata": {
    "collapsed": false
   },
   "outputs": [
    {
     "name": "stdout",
     "output_type": "stream",
     "text": [
      "0 ['Arizona', 'California', 'Nevada', 'New Mexico', 'Texas']\n",
      "1 ['Iowa', 'Maine', 'Michigan', 'Minnesota', 'New Hampshire', 'Ohio', 'Oregon', 'Pennsylvania', 'Vermont', 'Wisconsin']\n",
      "2 ['District of Columbia']\n",
      "3 ['Arkansas', 'Idaho', 'Indiana', 'Kansas', 'Kentucky', 'Missouri', 'Montana', 'Nebraska', 'North Dakota', 'Oklahoma', 'South Dakota', 'Tennessee', 'West Virginia', 'Wyoming']\n",
      "4 ['Alabama', 'Georgia', 'Louisiana', 'Mississippi', 'North Carolina', 'South Carolina']\n",
      "5 ['Colorado', 'Connecticut', 'Delaware', 'Florida', 'Hawaii', 'Illinois', 'Maryland', 'Massachusetts', 'New Jersey', 'New York', 'Rhode Island', 'Virginia', 'Washington']\n",
      "6 ['Alaska', 'Utah']\n"
     ]
    }
   ],
   "source": [
    "for key, grp in predict.groupby(\"kmeans_groups\"): print key, grp.State.tolist()"
   ]
  },
  {
   "cell_type": "code",
   "execution_count": 74,
   "id": "3166282c",
   "metadata": {
    "collapsed": false
   },
   "outputs": [],
   "source": [
    "changes = changes.merge(predict[[\"kmeans_groups\", \"State\"]], on=\"State\")"
   ]
  },
  {
   "cell_type": "markdown",
   "id": "a6e631d7",
   "metadata": {},
   "source": [
    "Drop D.C. because it's not in the training data."
   ]
  },
  {
   "cell_type": "code",
   "execution_count": 75,
   "id": "aeed1bd1",
   "metadata": {
    "collapsed": false
   },
   "outputs": [],
   "source": [
    "predict.set_index([\"State\", \"year\"], inplace=True);"
   ]
  },
  {
   "cell_type": "code",
   "execution_count": 76,
   "id": "00c2d012",
   "metadata": {
    "collapsed": false
   },
   "outputs": [],
   "source": [
    "predict = predict.drop((\"District of Columbia\", 2012))"
   ]
  },
  {
   "cell_type": "markdown",
   "id": "be66390f",
   "metadata": {},
   "source": [
    "#### Let's explore some hypotheses"
   ]
  },
  {
   "cell_type": "code",
   "execution_count": 77,
   "id": "277f652e",
   "metadata": {
    "collapsed": false
   },
   "outputs": [],
   "source": [
    "changes.set_index([\"State\", \"year\"], inplace=True);"
   ]
  },
  {
   "cell_type": "code",
   "execution_count": 78,
   "id": "bca4b4d0",
   "metadata": {
    "collapsed": false
   },
   "outputs": [],
   "source": [
    "from statsmodels.formula.api import ols"
   ]
  },
  {
   "cell_type": "code",
   "execution_count": 79,
   "id": "7c4d7bf4",
   "metadata": {
    "collapsed": false
   },
   "outputs": [
    {
     "data": {
      "text/plain": [
       "<class 'pandas.core.frame.DataFrame'>\n",
       "MultiIndex: 81 entries, ('Alabama', 2004) to ('Wyoming', 2008)\n",
       "Data columns:\n",
       "average_income    81  non-null values\n",
       "cons              81  non-null values\n",
       "educ_coll         81  non-null values\n",
       "educ_hs           81  non-null values\n",
       "income            81  non-null values\n",
       "jobs              81  non-null values\n",
       "median_income     81  non-null values\n",
       "older_pop         81  non-null values\n",
       "per_black         81  non-null values\n",
       "per_hisp          81  non-null values\n",
       "per_older         81  non-null values\n",
       "per_vote          81  non-null values\n",
       "per_white         81  non-null values\n",
       "poll_change       81  non-null values\n",
       "pop_density       81  non-null values\n",
       "prices            81  non-null values\n",
       "prod              81  non-null values\n",
       "vote_pop          81  non-null values\n",
       "PVI               81  non-null values\n",
       "dem_adv           81  non-null values\n",
       "no_party          81  non-null values\n",
       "kmeans_groups     81  non-null values\n",
       "dtypes: float64(21), int64(1)"
      ]
     },
     "execution_count": 79,
     "metadata": {},
     "output_type": "execute_result"
    }
   ],
   "source": [
    "changes"
   ]
  },
  {
   "cell_type": "code",
   "execution_count": 80,
   "id": "c74a295d",
   "metadata": {
    "collapsed": false
   },
   "outputs": [
    {
     "data": {
      "text/plain": [
       "         dem_adv    PVI\n",
       "dem_adv    1.000  0.877\n",
       "PVI        0.877  1.000"
      ]
     },
     "execution_count": 80,
     "metadata": {},
     "output_type": "execute_result"
    }
   ],
   "source": [
    "changes[[\"dem_adv\", \"PVI\"]].corr()"
   ]
  },
  {
   "cell_type": "code",
   "execution_count": 107,
   "id": "7b98c528",
   "metadata": {
    "collapsed": false
   },
   "outputs": [
    {
     "name": "stdout",
     "output_type": "stream",
     "text": [
      "                            OLS Regression Results                            \n",
      "==============================================================================\n",
      "Dep. Variable:            poll_change   R-squared:                       0.498\n",
      "Model:                            OLS   Adj. R-squared:                  0.400\n",
      "Method:                 Least Squares   F-statistic:                     5.103\n",
      "Date:                Sat, 27 Oct 2012   Prob (F-statistic):           3.47e-06\n",
      "Time:                        12:46:19   Log-Likelihood:                -147.99\n",
      "No. Observations:                  81   AIC:                             324.0\n",
      "Df Residuals:                      67   BIC:                             357.5\n",
      "Df Model:                          13                                         \n",
      "==================================================================================================\n",
      "                                     coef    std err          t      P>|t|      [95.0% Conf. Int.]\n",
      "--------------------------------------------------------------------------------------------------\n",
      "Intercept                       -129.4535     67.810     -1.909      0.061      -264.802     5.896\n",
      "C(kmeans_groups)[T.1]              2.1833      1.534      1.423      0.159        -0.879     5.246\n",
      "C(kmeans_groups)[T.3]              2.8481      1.575      1.808      0.075        -0.296     5.992\n",
      "C(kmeans_groups)[T.4]              2.2163      1.644      1.348      0.182        -1.065     5.498\n",
      "C(kmeans_groups)[T.5]              0.3561      1.197      0.297      0.767        -2.033     2.746\n",
      "C(kmeans_groups)[T.6]              1.7437      1.952      0.893      0.375        -2.152     5.639\n",
      "per_older                         -0.3697      0.380     -0.974      0.334        -1.127     0.388\n",
      "per_white                         -0.0950      0.055     -1.733      0.088        -0.204     0.014\n",
      "per_older:per_white                0.0064      0.004      1.425      0.159        -0.003     0.015\n",
      "per_hisp                           0.0276      0.056      0.490      0.626        -0.085     0.140\n",
      "no_party                           4.9148      4.124      1.192      0.238        -3.317    13.147\n",
      "np.log(median_income)             13.4102      6.651      2.016      0.048         0.136    26.685\n",
      "no_party:np.log(median_income)    -0.4960      0.402     -1.235      0.221        -1.298     0.306\n",
      "PVI                                0.1257      0.046      2.747      0.008         0.034     0.217\n",
      "==============================================================================\n",
      "Omnibus:                        1.558   Durbin-Watson:                   1.886\n",
      "Prob(Omnibus):                  0.459   Jarque-Bera (JB):                1.217\n",
      "Skew:                           0.054   Prob(JB):                        0.544\n",
      "Kurtosis:                       2.410   Cond. No.                     2.92e+05\n",
      "==============================================================================\n",
      "\n",
      "The condition number is large, 2.92e+05. This might indicate that there are\n",
      "strong multicollinearity or other numerical problems.\n"
     ]
    }
   ],
   "source": [
    "formula = (\"poll_change ~ C(kmeans_groups) + per_older*per_white + \"\n",
    "           \"per_hisp + no_party*np.log(median_income) + PVI\")\n",
    "mod = ols(formula, data=changes).fit()\n",
    "print mod.summary()"
   ]
  },
  {
   "cell_type": "code",
   "execution_count": 82,
   "id": "0f378183",
   "metadata": {
    "collapsed": false
   },
   "outputs": [],
   "source": [
    "hyp = \", \".join(mod.model.exog_names[:5])"
   ]
  },
  {
   "cell_type": "code",
   "execution_count": 83,
   "id": "f84fc9d1",
   "metadata": {
    "collapsed": false
   },
   "outputs": [
    {
     "name": "stdout",
     "output_type": "stream",
     "text": [
      "Intercept, C(kmeans_groups)[T.1], C(kmeans_groups)[T.3], C(kmeans_groups)[T.4], C(kmeans_groups)[T.5]\n"
     ]
    }
   ],
   "source": [
    "print hyp"
   ]
  },
  {
   "cell_type": "code",
   "execution_count": 84,
   "id": "d32867b2",
   "metadata": {
    "collapsed": false
   },
   "outputs": [
    {
     "name": "stdout",
     "output_type": "stream",
     "text": [
      "<F test: F=array([[ 1.6831]]), p=[[ 0.1507]], df_denom=67, df_num=5>\n"
     ]
    }
   ],
   "source": [
    "print mod.f_test(hyp)"
   ]
  },
  {
   "cell_type": "code",
   "execution_count": 85,
   "id": "03514ce5",
   "metadata": {
    "collapsed": false
   },
   "outputs": [],
   "source": [
    "predicted2012 = pandas.read_csv(\"/home/skipper/school/talks/538model/2012-predicted.csv\")\n",
    "predicted2012[\"year\"] = 2012\n",
    "predicted2012 = predicted2012.set_index([\"State\", \"year\"])[\"poll\"]"
   ]
  },
  {
   "cell_type": "code",
   "execution_count": 86,
   "id": "4b740daa",
   "metadata": {
    "collapsed": false
   },
   "outputs": [],
   "source": [
    "predicted_change = pandas.Series(mod.predict(predict), index=predict.index)"
   ]
  },
  {
   "cell_type": "code",
   "execution_count": 87,
   "id": "ecc96f92",
   "metadata": {
    "collapsed": false
   },
   "outputs": [
    {
     "data": {
      "text/plain": [
       "State           year\n",
       "Alabama         2012    2.408\n",
       "Alaska          2012    1.938\n",
       "Arizona         2012    4.496\n",
       "Arkansas        2012    1.388\n",
       "California      2012    7.027\n",
       "Colorado        2012    3.907\n",
       "Connecticut     2012    5.086\n",
       "Delaware        2012    4.265\n",
       "Florida         2012    3.977\n",
       "Georgia         2012    4.918\n",
       "Hawaii          2012    9.279\n",
       "Idaho           2012    1.652\n",
       "Illinois        2012    4.905\n",
       "Indiana         2012    3.014\n",
       "Iowa            2012    2.634\n",
       "Kansas          2012    3.370\n",
       "Kentucky        2012    1.863\n",
       "Louisiana       2012    3.549\n",
       "Maine           2012    1.658\n",
       "Maryland        2012    9.220\n",
       "Massachusetts   2012    5.800\n",
       "Michigan        2012    3.936\n",
       "Minnesota       2012    5.226\n",
       "Mississippi     2012    3.455\n",
       "Missouri        2012    2.945\n",
       "Montana         2012    2.046\n",
       "Nebraska        2012    2.599\n",
       "Nevada          2012    4.072\n",
       "New Hampshire   2012    4.682\n",
       "New Jersey      2012    5.568\n",
       "New Mexico      2012    6.087\n",
       "New York        2012    4.985\n",
       "North Carolina  2012    4.740\n",
       "North Dakota    2012    1.645\n",
       "Ohio            2012    2.841\n",
       "Oklahoma        2012    3.058\n",
       "Oregon          2012    4.968\n",
       "Pennsylvania    2012    5.191\n",
       "Rhode Island    2012    1.271\n",
       "South Carolina  2012    3.645\n",
       "South Dakota    2012    3.876\n",
       "Tennessee       2012    2.552\n",
       "Texas           2012    3.181\n",
       "Utah            2012    3.259\n",
       "Vermont         2012    3.415\n",
       "Virginia        2012    4.519\n",
       "Washington      2012    4.241\n",
       "West Virginia   2012    1.071\n",
       "Wisconsin       2012    4.811\n",
       "Wyoming         2012    0.955"
      ]
     },
     "execution_count": 87,
     "metadata": {},
     "output_type": "execute_result"
    }
   ],
   "source": [
    "predicted_change"
   ]
  },
  {
   "cell_type": "code",
   "execution_count": 88,
   "id": "049f9849",
   "metadata": {
    "collapsed": false
   },
   "outputs": [
    {
     "data": {
      "text/plain": [
       "State           year\n",
       "Alabama         2012       NaN\n",
       "Alaska          2012       NaN\n",
       "Arizona         2012    -1.855\n",
       "Arkansas        2012       NaN\n",
       "California      2012    26.821\n",
       "Colorado        2012    10.854\n",
       "Connecticut     2012    19.053\n",
       "Delaware        2012       NaN\n",
       "Florida         2012     6.057\n",
       "Georgia         2012    -4.050\n",
       "Hawaii          2012    40.512\n",
       "Idaho           2012       NaN\n",
       "Illinois        2012    31.774\n",
       "Indiana         2012    -3.856\n",
       "Iowa            2012     4.959\n",
       "Kansas          2012    -6.171\n",
       "Kentucky        2012       NaN\n",
       "Louisiana       2012       NaN\n",
       "Maine           2012    14.393\n",
       "Maryland        2012    38.075\n",
       "Massachusetts   2012    27.616\n",
       "Michigan        2012    12.497\n",
       "Minnesota       2012    13.273\n",
       "Mississippi     2012    -5.182\n",
       "Missouri        2012     0.970\n",
       "Montana         2012    -4.989\n",
       "Nebraska        2012    -6.064\n",
       "Nevada          2012    13.094\n",
       "New Hampshire   2012     3.549\n",
       "New Jersey      2012    19.113\n",
       "New Mexico      2012    15.232\n",
       "New York        2012    28.191\n",
       "North Carolina  2012     4.150\n",
       "North Dakota    2012    -7.493\n",
       "Ohio            2012     7.224\n",
       "Oklahoma        2012       NaN\n",
       "Oregon          2012    14.085\n",
       "Pennsylvania    2012    10.883\n",
       "Rhode Island    2012    27.202\n",
       "South Carolina  2012    -3.122\n",
       "South Dakota    2012     2.739\n",
       "Tennessee       2012    -0.331\n",
       "Texas           2012     0.603\n",
       "Utah            2012   -25.883\n",
       "Vermont         2012    20.227\n",
       "Virginia        2012     9.504\n",
       "Washington      2012    20.359\n",
       "West Virginia   2012    -8.706\n",
       "Wisconsin       2012     9.720\n",
       "Wyoming         2012       NaN"
      ]
     },
     "execution_count": 88,
     "metadata": {},
     "output_type": "execute_result"
    }
   ],
   "source": [
    "results = predicted2012 + predicted_change\n",
    "results"
   ]
  },
  {
   "cell_type": "code",
   "execution_count": 89,
   "id": "2aab5544",
   "metadata": {
    "collapsed": false
   },
   "outputs": [],
   "source": [
    "electoral_votes = pandas.read_csv(\"/home/skipper/school/seaboldgit/talks/pydata/data/electoral_votes.csv\")\n",
    "electoral_votes.sort(\"State\", inplace=True).reset_index(drop=True, inplace=True);\n",
    "red_states = [\"Alabama\", \"Alaska\", \"Arkansas\", \"Idaho\", \"Kentucky\", \"Louisiana\",\n",
    "              \"Oklahoma\", \"Wyoming\"]\n",
    "blue_states = [\"Delaware\"]#, \"District of Columbia\"]\n",
    "results.name = \"Poll\"\n",
    "results = results.reset_index()\n",
    "results = results.merge(electoral_votes, on=\"State\", how=\"left\").set_index(\"State\")\n",
    "results[\"obama\"] = 0\n",
    "results[\"romney\"] = 0\n",
    "results.ix[results[\"Poll\"] > 0, [\"obama\"]] = 1\n",
    "results.ix[results[\"Poll\"] < 0, [\"romney\"]] = 1\n",
    "results.ix[red_states, [\"romney\"]] = 1\n",
    "results.ix[blue_states, [\"obama\"]] = 1"
   ]
  },
  {
   "cell_type": "code",
   "execution_count": 90,
   "id": "ac735f4d",
   "metadata": {
    "collapsed": false
   },
   "outputs": [
    {
     "name": "stdout",
     "output_type": "stream",
     "text": [
      "398\n",
      "140\n"
     ]
    }
   ],
   "source": [
    "print results[\"Votes\"].mul(results[\"obama\"]).sum() + 3\n",
    "print results[\"Votes\"].mul(results[\"romney\"]).sum() "
   ]
  },
  {
   "cell_type": "markdown",
   "id": "4e0d92b3",
   "metadata": {},
   "source": [
    "### CCPR Plots"
   ]
  },
  {
   "cell_type": "markdown",
   "id": "f87ed462",
   "metadata": {},
   "source": [
    "Component-Component plus residual plots. Partial residual plots attempt to show the relationship between a given independent variable and the response variable given that other independent variables are also in the model."
   ]
  },
  {
   "cell_type": "code",
   "execution_count": 91,
   "id": "5144c040",
   "metadata": {
    "collapsed": false
   },
   "outputs": [
    {
     "data": {
      "image/png": "[encoded data removed]"
     },
     "metadata": {},
     "output_type": "display_data"
    }
   ],
   "source": [
    "from statsmodels.graphics.regressionplots import plot_ccpr_ax\n",
    "fig, ax = plt.subplots(figsize=(12,8))\n",
    "fig = plot_ccpr_ax(mod, 11, ax=ax)\n",
    "ax = fig.axes[0]\n",
    "ax.set_title(\"log(median_income)*B_11 + Resid vs log(median_income)\");"
   ]
  },
  {
   "cell_type": "code",
   "execution_count": 106,
   "id": "a02f8584",
   "metadata": {
    "collapsed": false
   },
   "outputs": [
    {
     "data": {
      "image/png": "[encoded data removed]"
     },
     "metadata": {},
     "output_type": "display_data"
    }
   ],
   "source": [
    "from statsmodels.graphics.regressionplots import plot_ccpr_ax\n",
    "fig, ax = plt.subplots(figsize=(12,8))\n",
    "fig = plot_ccpr_ax(mod, 9, ax=ax)\n",
    "ax = fig.axes[0]\n",
    "ax.set_title(\"per_hisp*B_9 + resid vs per_hisp\");"
   ]
  },
  {
   "cell_type": "code",
   "execution_count": 93,
   "id": "80e14218",
   "metadata": {
    "collapsed": false
   },
   "outputs": [],
   "source": [
    "X = mod.model.data.orig_exog"
   ]
  },
  {
   "cell_type": "code",
   "execution_count": 94,
   "id": "32fff3c5",
   "metadata": {
    "collapsed": false
   },
   "outputs": [
    {
     "data": {
      "text/plain": [
       "                     Intercept  C(kmeans_groups)[T.1]  C(kmeans_groups)[T.3]  C(kmeans_groups)[T.4]  C(kmeans_groups)[T.5]  C(kmeans_groups)[T.6]\n",
       "State          year                                                                                                                              \n",
       "Alabama        2004          1                      0                      0                      1                      0                      0\n",
       "               2008          1                      0                      0                      1                      0                      0\n",
       "Alaska         2008          1                      0                      0                      0                      0                      1\n",
       "Arizona        2004          1                      0                      0                      0                      0                      0\n",
       "               2008          1                      0                      0                      0                      0                      0\n",
       "Arkansas       2004          1                      0                      1                      0                      0                      0\n",
       "               2008          1                      0                      1                      0                      0                      0\n",
       "California     2004          1                      0                      0                      0                      0                      0\n",
       "               2008          1                      0                      0                      0                      0                      0\n",
       "Colorado       2004          1                      0                      0                      0                      1                      0\n",
       "               2008          1                      0                      0                      0                      1                      0\n",
       "Connecticut    2008          1                      0                      0                      0                      1                      0\n",
       "Delaware       2008          1                      0                      0                      0                      1                      0\n",
       "Florida        2004          1                      0                      0                      0                      1                      0\n",
       "               2008          1                      0                      0                      0                      1                      0\n",
       "Georgia        2004          1                      0                      0                      1                      0                      0\n",
       "               2008          1                      0                      0                      1                      0                      0\n",
       "Illinois       2004          1                      0                      0                      0                      1                      0\n",
       "               2008          1                      0                      0                      0                      1                      0\n",
       "Indiana        2004          1                      0                      1                      0                      0                      0\n",
       "               2008          1                      0                      1                      0                      0                      0\n",
       "Iowa           2004          1                      1                      0                      0                      0                      0\n",
       "               2008          1                      1                      0                      0                      0                      0\n",
       "Kansas         2004          1                      0                      1                      0                      0                      0\n",
       "               2008          1                      0                      1                      0                      0                      0\n",
       "Kentucky       2004          1                      0                      1                      0                      0                      0\n",
       "               2008          1                      0                      1                      0                      0                      0\n",
       "Louisiana      2008          1                      0                      0                      1                      0                      0\n",
       "Maine          2004          1                      1                      0                      0                      0                      0\n",
       "               2008          1                      1                      0                      0                      0                      0\n",
       "Maryland       2004          1                      0                      0                      0                      1                      0\n",
       "Massachusetts  2008          1                      0                      0                      0                      1                      0\n",
       "Michigan       2004          1                      1                      0                      0                      0                      0\n",
       "               2008          1                      1                      0                      0                      0                      0\n",
       "Minnesota      2004          1                      1                      0                      0                      0                      0\n",
       "               2008          1                      1                      0                      0                      0                      0\n",
       "Mississippi    2008          1                      0                      0                      1                      0                      0\n",
       "Missouri       2004          1                      0                      1                      0                      0                      0\n",
       "               2008          1                      0                      1                      0                      0                      0\n",
       "Montana        2004          1                      0                      1                      0                      0                      0\n",
       "               2008          1                      0                      1                      0                      0                      0\n",
       "Nevada         2004          1                      0                      0                      0                      0                      0\n",
       "               2008          1                      0                      0                      0                      0                      0\n",
       "New Hampshire  2004          1                      1                      0                      0                      0                      0\n",
       "               2008          1                      1                      0                      0                      0                      0\n",
       "New Jersey     2004          1                      0                      0                      0                      1                      0\n",
       "               2008          1                      0                      0                      0                      1                      0\n",
       "New Mexico     2004          1                      0                      0                      0                      0                      0\n",
       "               2008          1                      0                      0                      0                      0                      0\n",
       "New York       2004          1                      0                      0                      0                      1                      0\n",
       "               2008          1                      0                      0                      0                      1                      0\n",
       "North Carolina 2004          1                      0                      0                      1                      0                      0\n",
       "               2008          1                      0                      0                      1                      0                      0\n",
       "Ohio           2004          1                      1                      0                      0                      0                      0\n",
       "               2008          1                      1                      0                      0                      0                      0\n",
       "Oklahoma       2004          1                      0                      1                      0                      0                      0\n",
       "               2008          1                      0                      1                      0                      0                      0\n",
       "Oregon         2004          1                      1                      0                      0                      0                      0\n",
       "               2008          1                      1                      0                      0                      0                      0\n",
       "Pennsylvania   2004          1                      1                      0                      0                      0                      0\n",
       "               2008          1                      1                      0                      0                      0                      0\n",
       "Rhode Island   2004          1                      0                      0                      0                      1                      0\n",
       "South Carolina 2004          1                      0                      0                      1                      0                      0\n",
       "               2008          1                      0                      0                      1                      0                      0\n",
       "South Dakota   2004          1                      0                      1                      0                      0                      0\n",
       "               2008          1                      0                      1                      0                      0                      0\n",
       "Tennessee      2004          1                      0                      1                      0                      0                      0\n",
       "               2008          1                      0                      1                      0                      0                      0\n",
       "Texas          2004          1                      0                      0                      0                      0                      0\n",
       "               2008          1                      0                      0                      0                      0                      0\n",
       "Utah           2008          1                      0                      0                      0                      0                      1\n",
       "Vermont        2008          1                      1                      0                      0                      0                      0\n",
       "Virginia       2004          1                      0                      0                      0                      1                      0\n",
       "               2008          1                      0                      0                      0                      1                      0\n",
       "Washington     2004          1                      0                      0                      0                      1                      0\n",
       "               2008          1                      0                      0                      0                      1                      0\n",
       "West Virginia  2004          1                      0                      1                      0                      0                      0\n",
       "               2008          1                      0                      1                      0                      0                      0\n",
       "Wisconsin      2004          1                      1                      0                      0                      0                      0\n",
       "               2008          1                      1                      0                      0                      0                      0\n",
       "Wyoming        2008          1                      0                      1                      0                      0                      0"
      ]
     },
     "execution_count": 94,
     "metadata": {},
     "output_type": "execute_result"
    }
   ],
   "source": [
    "X[X.columns[:6]]"
   ]
  },
  {
   "cell_type": "code",
   "execution_count": 95,
   "id": "bf7d1014",
   "metadata": {
    "collapsed": false
   },
   "outputs": [
    {
     "data": {
      "text/plain": [
       "                     per_older  per_white  per_older:per_white  per_hisp  no_party  np.log(median_income)  no_party:np.log(median_income)  PVI\n",
       "State          year                                                                                                                           \n",
       "Alabama        2004     13.038     70.289              916.404     1.705      14.4                  9.961                   143.441        -13\n",
       "               2008      6.589     68.544              451.628     2.853      14.4                 10.362                   149.213        -13\n",
       "Alaska         2008      2.888     65.649              189.568     4.962      19.8                 10.740                   212.644        -13\n",
       "Arizona        2004     13.017     63.818              830.698    25.253      12.9                 10.018                   129.233         -6\n",
       "               2008      6.579     60.609              398.767    27.676      12.9                 10.503                   135.493         -6\n",
       "Arkansas       2004     13.990     78.557             1099.039     3.249      17.7                  9.883                   174.925         -9\n",
       "               2008      7.068     76.378              539.857     4.925      17.7                 10.290                   182.128         -9\n",
       "California     2004     10.616     46.696              495.706    32.377      17.1                 10.128                   173.183          7\n",
       "               2008      5.366     43.198              231.813    35.238      17.1                 10.668                   182.421          7\n",
       "Colorado       2004      9.673     74.464              720.309    17.102      15.0                 10.139                   152.089          0\n",
       "               2008      4.893     72.082              352.707    19.001      15.0                 10.619                   159.279          0\n",
       "Connecticut    2008      6.975     74.193              517.509    11.603      15.8                 10.801                   170.657          7\n",
       "Delaware       2008      6.564     68.791              451.576     6.579      16.4                 10.640                   174.489          7\n",
       "Florida        2004     17.567     65.438             1149.534    16.785      14.7                 10.001                   147.016         -2\n",
       "               2008      8.871     61.469              545.316    19.843      14.7                 10.459                   153.747         -2\n",
       "Georgia        2004      9.592     62.648              600.944     5.316      15.4                 10.090                   155.393         -7\n",
       "               2008      4.851     59.074              286.579     7.208      15.4                 10.511                   161.874         -7\n",
       "Illinois       2004     12.078     67.831              819.276    12.322      15.8                 10.162                   160.553          8\n",
       "               2008      6.103     65.566              400.120    14.261      15.8                 10.617                   167.745          8\n",
       "Indiana        2004     12.381     85.838             1062.770     3.528      15.3                 10.053                   153.813         -6\n",
       "               2008      6.257     83.569              522.854     4.864      15.3                 10.476                   160.287         -6\n",
       "Iowa           2004     14.907     92.619             1380.633     2.818      15.4                  9.971                   153.560          1\n",
       "               2008      7.528     90.510              681.335     4.009      15.4                 10.467                   161.193          1\n",
       "Kansas         2004     13.251     83.097             1101.078     7.002      14.3                 10.006                   143.079        -12\n",
       "               2008      6.692     80.449              538.342     8.901      14.3                 10.485                   149.940        -12\n",
       "Kentucky       2004     12.489     89.268             1114.906     1.483      13.4                  9.950                   133.329        -10\n",
       "               2008      6.312     87.684              553.480     2.341      13.4                 10.350                   138.693        -10\n",
       "Louisiana      2008      5.846     61.314              358.445     3.405      14.6                 10.373                   151.445        -10\n",
       "Maine          2004     14.385     96.500             1388.181     0.734      16.8                  9.966                   167.425          5\n",
       "               2008      7.274     95.400              693.955     1.067      16.8                 10.437                   175.347          5\n",
       "Maryland       2004     11.315     62.051              702.124     4.303      12.2                 10.284                   125.465          9\n",
       "Massachusetts  2008      6.844     79.138              541.610     8.326      14.1                 10.746                   151.525         12\n",
       "Michigan       2004     12.266     78.550              963.475     3.259      15.7                 10.137                   159.157          4\n",
       "               2008      6.203     77.475              480.605     3.879      15.7                 10.515                   165.080          4\n",
       "Minnesota      2004     12.080     88.163             1064.992     2.915      13.4                 10.147                   135.965          2\n",
       "               2008      6.105     85.481              521.900     3.907      13.4                 10.630                   142.447          2\n",
       "Mississippi    2008      6.103     59.221              361.429     2.145      12.8                 10.268                   131.431        -10\n",
       "Missouri       2004     13.500     83.759             1130.780     2.120      15.9                  9.987                   158.800         -3\n",
       "               2008      6.821     82.279              561.246     2.910      15.9                 10.434                   165.905         -3\n",
       "Montana        2004     13.406     89.540             1200.377     2.004      14.5                  9.755                   141.441         -7\n",
       "               2008      6.779     88.520              600.080     2.552      14.5                 10.327                   149.744         -7\n",
       "Nevada         2004     10.956     65.207              714.406    19.716      17.4                 10.111                   175.933          1\n",
       "               2008      5.540     59.403              329.125    23.408      17.4                 10.601                   184.455          1\n",
       "New Hampshire  2004     11.974     95.102             1138.723     1.658      13.9                 10.162                   141.254          2\n",
       "               2008      6.057     93.651              567.231     2.279      13.9                 10.705                   148.803          2\n",
       "New Jersey     2004     13.229     66.044              873.703    13.277      16.7                 10.323                   172.402          4\n",
       "               2008      6.683     62.472              417.502    15.689      16.7                 10.822                   180.732          4\n",
       "New Mexico     2004     11.667     44.721              521.752    42.076      14.2                  9.874                   140.217          2\n",
       "               2008      5.901     42.460              250.577    44.388      14.2                 10.362                   147.136          2\n",
       "New York       2004     12.902     61.977              799.626    15.111      17.2                 10.175                   175.015         10\n",
       "               2008      6.520     59.988              391.096    16.556      17.2                 10.619                   182.655         10\n",
       "North Carolina 2004     12.039     70.157              844.612     4.708      13.4                 10.011                   134.151         -4\n",
       "               2008      6.085     67.578              411.245     6.654      13.4                 10.432                   139.787         -4\n",
       "Ohio           2004     13.281     84.013             1115.737     1.912      15.4                 10.084                   155.289         -1\n",
       "               2008      6.712     82.506              553.764     2.556      15.4                 10.482                   161.417         -1\n",
       "Oklahoma       2004     13.213     74.084              978.899     5.196      13.4                  9.901                   132.680        -17\n",
       "               2008      6.675     71.142              474.887     7.198      13.4                 10.357                   138.781        -17\n",
       "Oregon         2004     12.807     83.522             1069.661     8.047      13.7                 10.008                   137.108          4\n",
       "               2008      6.475     80.811              523.249    10.023      13.7                 10.484                   143.627          4\n",
       "Pennsylvania   2004     15.627     84.052             1313.482     3.209      12.4                 10.074                   124.915          2\n",
       "               2008      7.892     81.626              644.153     4.554      12.4                 10.520                   130.450          2\n",
       "Rhode Island   2004     14.538     81.887             1190.447     8.663      21.0                 10.086                   211.808         11\n",
       "South Carolina 2004     12.097     66.109              799.717     2.370      14.3                  9.979                   142.701         -8\n",
       "               2008      6.119     65.054              398.068     3.835      14.3                 10.397                   148.674         -8\n",
       "South Dakota   2004     14.325     88.043             1261.207     1.444      11.0                  9.867                   108.533         -9\n",
       "               2008      7.234     86.221              623.766     2.172      11.0                 10.399                   114.388         -9\n",
       "Tennessee      2004     12.362     79.200              979.077     2.177      15.4                  9.985                   153.770         -9\n",
       "               2008      6.250     77.300              483.089     3.438      15.4                 10.389                   159.994         -9\n",
       "Texas          2004      9.939     52.433              521.153    31.986      17.6                 10.005                   176.092        -10\n",
       "               2008      5.022     48.617              244.161    35.043      17.6                 10.488                   184.595        -10\n",
       "Utah           2008      4.305     82.686              355.964    11.113      11.7                 10.557                   123.520        -20\n",
       "Vermont        2008      6.441     95.179              613.000     1.252      16.3                 10.510                   171.308         13\n",
       "Virginia       2004     11.193     70.151              785.233     4.655      14.6                 10.141                   148.056         -2\n",
       "               2008      5.659     67.325              381.011     6.428      14.6                 10.678                   155.896         -2\n",
       "Washington     2004     11.234     78.934              886.753     7.491      14.8                 10.146                   150.166          5\n",
       "               2008      5.681     75.517              428.977     9.545      14.8                 10.630                   157.329          5\n",
       "West Virginia  2004     15.312     94.560             1447.906     0.679      12.8                  9.861                   126.215         -8\n",
       "               2008      7.737     93.780              725.579     0.990      12.8                 10.267                   131.419         -8\n",
       "Wisconsin      2004     13.098     87.284             1143.276     3.597      12.8                 10.069                   128.884          2\n",
       "               2008      6.619     85.192              563.858     4.848      12.8                 10.535                   134.845          2\n",
       "Wyoming        2008      5.905     87.182              514.852     7.757      16.7                 10.513                   175.563        -20"
      ]
     },
     "execution_count": 95,
     "metadata": {},
     "output_type": "execute_result"
    }
   ],
   "source": [
    "X[X.columns[6:]]"
   ]
  },
  {
   "cell_type": "code",
   "execution_count": 96,
   "id": "4972e926",
   "metadata": {
    "collapsed": false
   },
   "outputs": [
    {
     "data": {
      "text/plain": [
       "                     student_resid  unadj_p  fdr_bh(p)\n",
       "State          year                                   \n",
       "Missouri       2008          2.125    0.037      0.748\n",
       "New Hampshire  2008          2.099    0.040      0.748\n",
       "Vermont        2008         -2.080    0.041      0.748\n",
       "Rhode Island   2004         -2.063    0.043      0.748\n",
       "Tennessee      2004         -2.032    0.046      0.748\n",
       "New Jersey     2008         -1.934    0.057      0.774\n",
       "Arizona        2008          1.861    0.067      0.778\n",
       "Connecticut    2008         -1.727    0.089      0.784\n",
       "Kentucky       2004         -1.657    0.102      0.784\n",
       "Maine          2004          1.553    0.125      0.784\n",
       "Illinois       2004          1.548    0.126      0.784\n",
       "California     2008          1.521    0.133      0.784\n",
       "Minnesota      2008         -1.500    0.138      0.784\n",
       "Oregon         2008          1.480    0.144      0.784\n",
       "               2004          1.400    0.166      0.784\n",
       "Maine          2008          1.392    0.169      0.784\n",
       "New Jersey     2004          1.371    0.175      0.784\n",
       "Michigan       2004         -1.345    0.183      0.784\n",
       "New Mexico     2004         -1.339    0.185      0.784\n",
       "Indiana        2004          1.313    0.194      0.784\n",
       "New York       2008          1.221    0.226      0.818\n",
       "Montana        2004          1.198    0.235      0.818\n",
       "Georgia        2004          1.188    0.239      0.818\n",
       "Kansas         2004          1.180    0.242      0.818\n",
       "Louisiana      2008         -1.142    0.258      0.831\n",
       "Missouri       2004         -1.120    0.267      0.831\n",
       "Pennsylvania   2004         -1.024    0.310      0.873\n",
       "Delaware       2008          1.014    0.314      0.873\n",
       "Illinois       2008         -0.966    0.338      0.873\n",
       "Ohio           2004          0.876    0.384      0.873\n",
       "North Carolina 2008          0.861    0.392      0.873\n",
       "Texas          2004          0.848    0.399      0.873\n",
       "Wisconsin      2004         -0.797    0.429      0.873\n",
       "Kansas         2008         -0.789    0.433      0.873\n",
       "Ohio           2008          0.768    0.445      0.873\n",
       "Virginia       2004         -0.764    0.447      0.873\n",
       "New York       2004          0.758    0.451      0.873\n",
       "California     2004         -0.742    0.461      0.873\n",
       "Michigan       2008         -0.730    0.468      0.873\n",
       "Texas          2008         -0.728    0.469      0.873\n",
       "New Mexico     2008         -0.724    0.472      0.873\n",
       "Florida        2004          0.723    0.472      0.873\n",
       "Nevada         2004         -0.721    0.473      0.873\n",
       "Mississippi    2008         -0.707    0.482      0.873\n",
       "Minnesota      2004         -0.703    0.485      0.873\n",
       "Washington     2008          0.563    0.576      0.951\n",
       "South Dakota   2004          0.550    0.584      0.951\n",
       "Indiana        2008         -0.542    0.590      0.951\n",
       "Alaska         2008          0.536    0.593      0.951\n",
       "Utah           2008         -0.536    0.593      0.951\n",
       "Arizona        2004         -0.520    0.605      0.951\n",
       "Wyoming        2008         -0.499    0.619      0.951\n",
       "Pennsylvania   2008         -0.492    0.624      0.951\n",
       "Kentucky       2008          0.447    0.656      0.951\n",
       "Nevada         2008          0.437    0.664      0.951\n",
       "Colorado       2008         -0.426    0.672      0.951\n",
       "New Hampshire  2004         -0.414    0.680      0.951\n",
       "Arkansas       2008         -0.380    0.705      0.951\n",
       "Alabama        2008          0.358    0.722      0.951\n",
       "Montana        2008         -0.357    0.722      0.951\n",
       "North Carolina 2004         -0.348    0.729      0.951\n",
       "Iowa           2004         -0.325    0.746      0.951\n",
       "Maryland       2004          0.304    0.762      0.951\n",
       "South Carolina 2004          0.302    0.764      0.951\n",
       "Tennessee      2008          0.278    0.782      0.951\n",
       "Georgia        2008         -0.251    0.802      0.951\n",
       "Iowa           2008         -0.197    0.844      0.951\n",
       "South Dakota   2008         -0.196    0.845      0.951\n",
       "Florida        2008          0.173    0.863      0.951\n",
       "Arkansas       2004          0.170    0.865      0.951\n",
       "Alabama        2004         -0.166    0.869      0.951\n",
       "West Virginia  2004          0.153    0.879      0.951\n",
       "Oklahoma       2008          0.150    0.881      0.951\n",
       "Virginia       2008          0.137    0.891      0.951\n",
       "Washington     2004         -0.133    0.895      0.951\n",
       "Colorado       2004         -0.121    0.904      0.951\n",
       "South Carolina 2008         -0.121    0.904      0.951\n",
       "Wisconsin      2008          0.096    0.924      0.960\n",
       "Massachusetts  2008         -0.075    0.940      0.964\n",
       "Oklahoma       2004          0.055    0.957      0.969\n",
       "West Virginia  2008         -0.005    0.996      0.996"
      ]
     },
     "execution_count": 96,
     "metadata": {},
     "output_type": "execute_result"
    }
   ],
   "source": [
    "false_disc = mod.outlier_test(\"fdr_bh\")\n",
    "false_disc.sort(\"unadj_p\", inplace=True)"
   ]
  },
  {
   "cell_type": "code",
   "execution_count": 97,
   "id": "ba003063",
   "metadata": {
    "collapsed": false
   },
   "outputs": [
    {
     "data": {
      "text/plain": [
       "                     student_resid  unadj_p  sidak(p)\n",
       "State          year                                  \n",
       "Missouri       2008          2.125    0.037     0.954\n",
       "New Hampshire  2008          2.099    0.040     0.962\n",
       "Vermont        2008         -2.080    0.041     0.967\n",
       "Rhode Island   2004         -2.063    0.043     0.972\n",
       "Tennessee      2004         -2.032    0.046     0.978\n",
       "New Jersey     2008         -1.934    0.057     0.992\n",
       "Arizona        2008          1.861    0.067     0.996\n",
       "Connecticut    2008         -1.727    0.089     0.999\n",
       "Kentucky       2004         -1.657    0.102     1.000\n",
       "Maine          2004          1.553    0.125     1.000\n",
       "Illinois       2004          1.548    0.126     1.000\n",
       "California     2008          1.521    0.133     1.000\n",
       "Minnesota      2008         -1.500    0.138     1.000\n",
       "Oregon         2008          1.480    0.144     1.000\n",
       "               2004          1.400    0.166     1.000\n",
       "Maine          2008          1.392    0.169     1.000\n",
       "New Jersey     2004          1.371    0.175     1.000\n",
       "Michigan       2004         -1.345    0.183     1.000\n",
       "New Mexico     2004         -1.339    0.185     1.000\n",
       "Indiana        2004          1.313    0.194     1.000\n",
       "New York       2008          1.221    0.226     1.000\n",
       "Montana        2004          1.198    0.235     1.000\n",
       "Georgia        2004          1.188    0.239     1.000\n",
       "Kansas         2004          1.180    0.242     1.000\n",
       "Louisiana      2008         -1.142    0.258     1.000\n",
       "Missouri       2004         -1.120    0.267     1.000\n",
       "Pennsylvania   2004         -1.024    0.310     1.000\n",
       "Delaware       2008          1.014    0.314     1.000\n",
       "Illinois       2008         -0.966    0.338     1.000\n",
       "Ohio           2004          0.876    0.384     1.000\n",
       "North Carolina 2008          0.861    0.392     1.000\n",
       "Texas          2004          0.848    0.399     1.000\n",
       "Wisconsin      2004         -0.797    0.429     1.000\n",
       "Kansas         2008         -0.789    0.433     1.000\n",
       "Ohio           2008          0.768    0.445     1.000\n",
       "Virginia       2004         -0.764    0.447     1.000\n",
       "New York       2004          0.758    0.451     1.000\n",
       "California     2004         -0.742    0.461     1.000\n",
       "Michigan       2008         -0.730    0.468     1.000\n",
       "Texas          2008         -0.728    0.469     1.000\n",
       "New Mexico     2008         -0.724    0.472     1.000\n",
       "Florida        2004          0.723    0.472     1.000\n",
       "Nevada         2004         -0.721    0.473     1.000\n",
       "Mississippi    2008         -0.707    0.482     1.000\n",
       "Minnesota      2004         -0.703    0.485     1.000\n",
       "Washington     2008          0.563    0.576     1.000\n",
       "South Dakota   2004          0.550    0.584     1.000\n",
       "Indiana        2008         -0.542    0.590     1.000\n",
       "Alaska         2008          0.536    0.593     1.000\n",
       "Utah           2008         -0.536    0.593     1.000\n",
       "Arizona        2004         -0.520    0.605     1.000\n",
       "Wyoming        2008         -0.499    0.619     1.000\n",
       "Pennsylvania   2008         -0.492    0.624     1.000\n",
       "Kentucky       2008          0.447    0.656     1.000\n",
       "Nevada         2008          0.437    0.664     1.000\n",
       "Colorado       2008         -0.426    0.672     1.000\n",
       "New Hampshire  2004         -0.414    0.680     1.000\n",
       "Arkansas       2008         -0.380    0.705     1.000\n",
       "Alabama        2008          0.358    0.722     1.000\n",
       "Montana        2008         -0.357    0.722     1.000\n",
       "North Carolina 2004         -0.348    0.729     1.000\n",
       "Iowa           2004         -0.325    0.746     1.000\n",
       "Maryland       2004          0.304    0.762     1.000\n",
       "South Carolina 2004          0.302    0.764     1.000\n",
       "Tennessee      2008          0.278    0.782     1.000\n",
       "Georgia        2008         -0.251    0.802     1.000\n",
       "Iowa           2008         -0.197    0.844     1.000\n",
       "South Dakota   2008         -0.196    0.845     1.000\n",
       "Florida        2008          0.173    0.863     1.000\n",
       "Arkansas       2004          0.170    0.865     1.000\n",
       "Alabama        2004         -0.166    0.869     1.000\n",
       "West Virginia  2004          0.153    0.879     1.000\n",
       "Oklahoma       2008          0.150    0.881     1.000\n",
       "Virginia       2008          0.137    0.891     1.000\n",
       "Washington     2004         -0.133    0.895     1.000\n",
       "Colorado       2004         -0.121    0.904     1.000\n",
       "South Carolina 2008         -0.121    0.904     1.000\n",
       "Wisconsin      2008          0.096    0.924     1.000\n",
       "Massachusetts  2008         -0.075    0.940     1.000\n",
       "Oklahoma       2004          0.055    0.957     1.000\n",
       "West Virginia  2008         -0.005    0.996     1.000"
      ]
     },
     "execution_count": 97,
     "metadata": {},
     "output_type": "execute_result"
    }
   ],
   "source": [
    "bonf = mod.outlier_test(\"sidak\")\n",
    "bonf.sort(\"unadj_p\", inplace=True)"
   ]
  },
  {
   "cell_type": "code",
   "execution_count": 98,
   "id": "01ea0471",
   "metadata": {
    "collapsed": false
   },
   "outputs": [],
   "source": [
    "infl = mod.get_influence()\n",
    "table = infl.summary_frame()"
   ]
  },
  {
   "cell_type": "code",
   "execution_count": 99,
   "id": "37dda1a9",
   "metadata": {
    "collapsed": false
   },
   "outputs": [
    {
     "name": "stdout",
     "output_type": "stream",
     "text": [
      "dfb_Intercept\n",
      "dfb_C(kmeans_groups)[T.1]\n",
      "dfb_C(kmeans_groups)[T.3]\n",
      "dfb_C(kmeans_groups)[T.4]\n",
      "dfb_C(kmeans_groups)[T.5]\n",
      "dfb_C(kmeans_groups)[T.6]\n",
      "dfb_per_older\n",
      "dfb_per_white\n",
      "dfb_per_older:per_white\n",
      "dfb_per_hisp\n",
      "dfb_no_party\n",
      "dfb_np.log(median_income)\n",
      "dfb_no_party:np.log(median_income)\n",
      "dfb_PVI\n",
      "cooks_d\n",
      "dffits\n",
      "dffits_internal\n",
      "hat_diag\n",
      "standard_resid\n",
      "student_resid\n"
     ]
    }
   ],
   "source": [
    "for stat in table.columns:\n",
    "    print stat"
   ]
  },
  {
   "cell_type": "markdown",
   "id": "bb251a12",
   "metadata": {},
   "source": [
    "Measure the influence of points on prediction\n",
    "\n",
    "$$\\text{DFFITS}=\\frac{\\hat{y}-\\hat{y}_{i}}{s_i\\sqrt{h_{ii}} }$$\n",
    "\n",
    "points greater than\n",
    "\n",
    "$$2\\left\\(\\frac{p}{\\text{nobs}} \\right\\)^{1/2}$$\n",
    "\n",
    "might be cause for concern"
   ]
  },
  {
   "cell_type": "code",
   "execution_count": 100,
   "id": "a27a5509",
   "metadata": {
    "collapsed": false
   },
   "outputs": [
    {
     "name": "stdout",
     "output_type": "stream",
     "text": [
      "0.80123361677\n"
     ]
    }
   ],
   "source": [
    "print 2*np.sqrt(mod.df_model/mod.nobs)"
   ]
  },
  {
   "cell_type": "code",
   "execution_count": 101,
   "id": "1bfa48b6",
   "metadata": {
    "collapsed": false
   },
   "outputs": [
    {
     "data": {
      "text/plain": [
       "State          year\n",
       "Rhode Island   2004    1.526\n",
       "Vermont        2008    1.133\n",
       "New Mexico     2004    1.022\n",
       "Arizona        2008    0.989\n",
       "California     2008    0.945\n",
       "New Jersey     2008    0.909\n",
       "New Hampshire  2008    0.872\n",
       "Alaska         2008    0.844\n",
       "Utah           2008    0.844\n",
       "Maine          2004    0.810\n",
       "Connecticut    2008    0.719\n",
       "Missouri       2008    0.704\n",
       "Maine          2008    0.611\n",
       "Tennessee      2004    0.605\n",
       "New Jersey     2004    0.565\n",
       "Name: dffits"
      ]
     },
     "execution_count": 101,
     "metadata": {},
     "output_type": "execute_result"
    }
   ],
   "source": [
    "dffits = np.abs(table['dffits'].copy())\n",
    "dffits.sort()\n",
    "dffits[::-1][:15]"
   ]
  },
  {
   "cell_type": "markdown",
   "id": "4f04b8db",
   "metadata": {},
   "source": [
    "Indicate influential observations, where you might want more data. \n",
    "\n",
    "Overall fit change with deleted observation.\n",
    "\n",
    "$$\\text{Cook's D}=\\frac{e_i^2}{p\\text{MSE}\\frac{h_{ii}}{(1-h_{ii})^2}}$$"
   ]
  },
  {
   "cell_type": "code",
   "execution_count": 102,
   "id": "b54bbc07",
   "metadata": {
    "collapsed": false
   },
   "outputs": [
    {
     "name": "stdout",
     "output_type": "stream",
     "text": [
      "0.0493827160494\n"
     ]
    }
   ],
   "source": [
    "print 4/mod.nobs"
   ]
  },
  {
   "cell_type": "code",
   "execution_count": 103,
   "id": "2921aa41",
   "metadata": {
    "collapsed": false
   },
   "outputs": [
    {
     "name": "stdout",
     "output_type": "stream",
     "text": [
      "State          year\n",
      "Rhode Island   2004    0.159\n",
      "Vermont        2008    0.087\n",
      "New Mexico     2004    0.074\n",
      "Arizona        2008    0.067\n",
      "California     2008    0.063\n",
      "New Jersey     2008    0.057\n",
      "New Hampshire  2008    0.052\n",
      "Alaska         2008    0.051\n",
      "Utah           2008    0.051\n",
      "Maine          2004    0.046\n",
      "Connecticut    2008    0.036\n",
      "Missouri       2008    0.034\n",
      "Maine          2008    0.026\n",
      "Tennessee      2004    0.025\n",
      "New Jersey     2004    0.023\n",
      "Name: cooks_d\n"
     ]
    }
   ],
   "source": [
    "cooks_d = table[\"cooks_d\"].copy()\n",
    "cooks_d.sort()\n",
    "print cooks_d[::-1][:15]"
   ]
  },
  {
   "cell_type": "code",
   "execution_count": 104,
   "id": "f9e7c753",
   "metadata": {
    "collapsed": false
   },
   "outputs": [
    {
     "data": {
      "text/plain": [
       "State          year\n",
       "Missouri       2008    2.125\n",
       "New Hampshire  2008    2.099\n",
       "Vermont        2008    2.080\n",
       "Rhode Island   2004    2.063\n",
       "Tennessee      2004    2.032\n",
       "New Jersey     2008    1.934\n",
       "Arizona        2008    1.861\n",
       "Connecticut    2008    1.727\n",
       "Kentucky       2004    1.657\n",
       "Maine          2004    1.553\n",
       "Illinois       2004    1.548\n",
       "California     2008    1.521\n",
       "Minnesota      2008    1.500\n",
       "Oregon         2008    1.480\n",
       "               2004    1.400\n",
       "Name: student_resid"
      ]
     },
     "execution_count": 104,
     "metadata": {},
     "output_type": "execute_result"
    }
   ],
   "source": [
    "student_resid = np.abs(table.student_resid.copy())\n",
    "student_resid.sort()\n",
    "student_resid[::-1][:15]"
   ]
  }
 ],
 "metadata": {},
 "nbformat": 4,
 "nbformat_minor": 5
}
